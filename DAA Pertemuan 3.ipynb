{
 "cells": [
  {
   "cell_type": "code",
   "execution_count": 1,
   "id": "eeac7ae0-4b90-4627-81e4-cd604cad6b8e",
   "metadata": {},
   "outputs": [
    {
     "name": "stdout",
     "output_type": "stream",
     "text": [
      "['John', 33, 'Toronto', True]\n"
     ]
    }
   ],
   "source": [
    "aList = [\"John\", 33, \"Toronto\", True]\n",
    "print(aList)"
   ]
  },
  {
   "cell_type": "code",
   "execution_count": 4,
   "id": "1a32f217-2ae9-443c-9969-b56c9b73aebc",
   "metadata": {},
   "outputs": [
    {
     "name": "stdout",
     "output_type": "stream",
     "text": [
      "['Rahmat Adi Nugroho', 2020071017, 'INF', 'DAA', '15/9/2021', 'UPJ']\n"
     ]
    }
   ],
   "source": [
    "Mahasiswa = [\"Rahmat Adi Nugroho\", 2020071017,\"INF\", \"DAA\", \"15/9/2021\",\"UPJ\"]\n",
    "print(Mahasiswa)"
   ]
  },
  {
   "cell_type": "code",
   "execution_count": 2,
   "id": "f5a78674-1f10-4d8c-9f2a-2e1889552d16",
   "metadata": {},
   "outputs": [
    {
     "data": {
      "text/plain": [
       "'Green'"
      ]
     },
     "execution_count": 2,
     "metadata": {},
     "output_type": "execute_result"
    }
   ],
   "source": [
    "bin_color= ['Red','Green','Blue','Yellow']\n",
    "bin_color[1]"
   ]
  },
  {
   "cell_type": "code",
   "execution_count": 6,
   "id": "c819ade5-d119-48f3-a2f8-6ddc8e157545",
   "metadata": {},
   "outputs": [
    {
     "data": {
      "text/plain": [
       "2020071017"
      ]
     },
     "execution_count": 6,
     "metadata": {},
     "output_type": "execute_result"
    }
   ],
   "source": [
    "Mahasiswa[1]"
   ]
  },
  {
   "cell_type": "code",
   "execution_count": 7,
   "id": "e3a5f7d1-86d2-4408-9f4a-3911c4587555",
   "metadata": {},
   "outputs": [
    {
     "data": {
      "text/plain": [
       "'UPJ'"
      ]
     },
     "execution_count": 7,
     "metadata": {},
     "output_type": "execute_result"
    }
   ],
   "source": [
    "Mahasiswa[5]"
   ]
  },
  {
   "cell_type": "code",
   "execution_count": 22,
   "id": "d73633b2-8eae-4535-8ff7-7956f4b3b749",
   "metadata": {},
   "outputs": [
    {
     "data": {
      "text/plain": [
       "['Red', 'Green', 'Blue', 'Yellow']"
      ]
     },
     "execution_count": 22,
     "metadata": {},
     "output_type": "execute_result"
    }
   ],
   "source": [
    "bin_color[0:4]"
   ]
  },
  {
   "cell_type": "code",
   "execution_count": 23,
   "id": "c9a07457-8146-49ab-8beb-444e59c606f6",
   "metadata": {},
   "outputs": [
    {
     "data": {
      "text/plain": [
       "['Rahmat Adi Nugroho', 2020071017, 'INF', 'DAA', '15/9/2021', 'UPJ']"
      ]
     },
     "execution_count": 23,
     "metadata": {},
     "output_type": "execute_result"
    }
   ],
   "source": [
    "Mahasiswa[0:6]"
   ]
  },
  {
   "cell_type": "code",
   "execution_count": 2,
   "id": "47c3758a-df6b-4571-9cab-e1a38c39fd79",
   "metadata": {},
   "outputs": [
    {
     "name": "stdout",
     "output_type": "stream",
     "text": [
      "RedSquare\n",
      "GreenSquare\n",
      "BlueSquare\n",
      "YellowSquare\n"
     ]
    }
   ],
   "source": [
    "bin_color1= ['Red','Green','Blue','Yellow']\n",
    "for aColor in bin_color1:\n",
    "    print( aColor + \"Square\" )"
   ]
  },
  {
   "cell_type": "code",
   "execution_count": 17,
   "id": "723118dc-8f70-4664-936d-3f247bf389f1",
   "metadata": {},
   "outputs": [
    {
     "name": "stdout",
     "output_type": "stream",
     "text": [
      "UPJ.Adi\n",
      "UPJ.Syawal\n",
      "UPJ.Aldo\n",
      "UPJ.Rajwa\n"
     ]
    }
   ],
   "source": [
    "Mahasiswa1 = [\"Adi\", \"Syawal\", \"Aldo\", \"Rajwa\"]\n",
    "for aMahasiswa in Mahasiswa1:\n",
    "    print(\"UPJ.\"+ aMahasiswa )"
   ]
  },
  {
   "cell_type": "code",
   "execution_count": 11,
   "id": "112b07b6-5395-4bd2-9680-23af320cfc31",
   "metadata": {},
   "outputs": [
    {
     "data": {
      "text/plain": [
       "'Green'"
      ]
     },
     "execution_count": 11,
     "metadata": {},
     "output_type": "execute_result"
    }
   ],
   "source": [
    "bin_colors = ('Red','Green','Blue','Yellow')\n",
    "bin_colors [1]"
   ]
  },
  {
   "cell_type": "code",
   "execution_count": 10,
   "id": "10609657-1aca-445f-a4f5-46c1f68f5796",
   "metadata": {},
   "outputs": [
    {
     "data": {
      "text/plain": [
       "('Blue', 'Yellow')"
      ]
     },
     "execution_count": 10,
     "metadata": {},
     "output_type": "execute_result"
    }
   ],
   "source": [
    "bin_colors[2:]"
   ]
  },
  {
   "cell_type": "code",
   "execution_count": 20,
   "id": "7e7ef664-ff4b-49ee-903d-a7283cf91934",
   "metadata": {},
   "outputs": [
    {
     "name": "stdout",
     "output_type": "stream",
     "text": [
      "('universitas', 'pembangunan', 'Jaya')\n"
     ]
    }
   ],
   "source": [
    "UPJ = (\"universitas\",\"pembangunan\",\"Jaya\")\n",
    "print(UPJ)"
   ]
  },
  {
   "cell_type": "code",
   "execution_count": 21,
   "id": "e17f28d5-4d71-45a6-98e8-a73614f3bae8",
   "metadata": {},
   "outputs": [
    {
     "data": {
      "text/plain": [
       "(100, (200, 400, 600), 300, (400, 800))"
      ]
     },
     "execution_count": 21,
     "metadata": {},
     "output_type": "execute_result"
    }
   ],
   "source": [
    "nested_tuple = (100,(200,400,600),300,(400,800))\n",
    "nested_tuple"
   ]
  },
  {
   "cell_type": "code",
   "execution_count": 24,
   "id": "4664e200-dc68-44c8-b456-08cf2d6f56f1",
   "metadata": {},
   "outputs": [
    {
     "data": {
      "text/plain": [
       "100"
      ]
     },
     "execution_count": 24,
     "metadata": {},
     "output_type": "execute_result"
    }
   ],
   "source": [
    "nested_tuple [0]"
   ]
  },
  {
   "cell_type": "code",
   "execution_count": 25,
   "id": "c431e050-a73f-423a-8c13-488961ac3615",
   "metadata": {},
   "outputs": [
    {
     "data": {
      "text/plain": [
       "(200, 400, 600)"
      ]
     },
     "execution_count": 25,
     "metadata": {},
     "output_type": "execute_result"
    }
   ],
   "source": [
    "nested_tuple [1]"
   ]
  },
  {
   "cell_type": "code",
   "execution_count": 26,
   "id": "6cd13e3d-b6f7-48f2-afe9-3dfbed77d429",
   "metadata": {},
   "outputs": [
    {
     "data": {
      "text/plain": [
       "300"
      ]
     },
     "execution_count": 26,
     "metadata": {},
     "output_type": "execute_result"
    }
   ],
   "source": [
    "nested_tuple [2]"
   ]
  },
  {
   "cell_type": "code",
   "execution_count": 27,
   "id": "f91618a1-d010-448a-aec4-a0692e928661",
   "metadata": {},
   "outputs": [
    {
     "data": {
      "text/plain": [
       "(400, 800)"
      ]
     },
     "execution_count": 27,
     "metadata": {},
     "output_type": "execute_result"
    }
   ],
   "source": [
    "nested_tuple [3]"
   ]
  },
  {
   "cell_type": "code",
   "execution_count": 28,
   "id": "68528462-6c38-4293-b294-254551f57a80",
   "metadata": {},
   "outputs": [
    {
     "name": "stdout",
     "output_type": "stream",
     "text": [
      "{'manual_color': 'Yellow', 'approved_color': 'Green', 'refused_color': 'Red'}\n"
     ]
    }
   ],
   "source": [
    "bin_colors = {\"manual_color\":\"Yellow\", \"approved_color\":\"Green\",\"refused_color\":\"Red\"}\n",
    "print(bin_colors)"
   ]
  },
  {
   "cell_type": "code",
   "execution_count": 30,
   "id": "5dce851e-608a-4913-ab71-ebbf27f4fece",
   "metadata": {},
   "outputs": [
    {
     "data": {
      "text/plain": [
       "'Yellow'"
      ]
     },
     "execution_count": 30,
     "metadata": {},
     "output_type": "execute_result"
    }
   ],
   "source": [
    "bin_colors.get('manual_color')"
   ]
  },
  {
   "cell_type": "code",
   "execution_count": 32,
   "id": "c43acd6c-a835-4415-af30-d3c056dec7eb",
   "metadata": {},
   "outputs": [
    {
     "data": {
      "text/plain": [
       "'Green'"
      ]
     },
     "execution_count": 32,
     "metadata": {},
     "output_type": "execute_result"
    }
   ],
   "source": [
    "bin_colors['approved_color']"
   ]
  },
  {
   "cell_type": "code",
   "execution_count": 33,
   "id": "87ebd3b3-cf72-425d-a238-3a382963225f",
   "metadata": {},
   "outputs": [
    {
     "name": "stdout",
     "output_type": "stream",
     "text": [
      "{'manual_color': 'Yellow', 'approved_color': 'Purple', 'refused_color': 'Red'}\n"
     ]
    }
   ],
   "source": [
    "bin_colors['approved_color']='Purple'\n",
    "print(bin_colors)"
   ]
  },
  {
   "cell_type": "code",
   "execution_count": 35,
   "id": "3df37934-5172-420f-aa5b-d922451c773f",
   "metadata": {},
   "outputs": [
    {
     "name": "stdout",
     "output_type": "stream",
     "text": [
      "{'Nama': 'Rahmat Adi Nugroho', 'NIM': 2020071017, 'Prodi': 'Informatika', 'Universitas': 'UPJ'}\n"
     ]
    }
   ],
   "source": [
    "biodata ={\"Nama\":\"Rahmat Adi Nugroho\",\"NIM\":2020071017,\"Prodi\":\"Informatika\",\"Universitas\":\"UPJ\"}\n",
    "print(biodata)"
   ]
  },
  {
   "cell_type": "code",
   "execution_count": 36,
   "id": "764e3574-e987-4572-ac29-8f3ce7881e3c",
   "metadata": {},
   "outputs": [
    {
     "data": {
      "text/plain": [
       "'Rahmat Adi Nugroho'"
      ]
     },
     "execution_count": 36,
     "metadata": {},
     "output_type": "execute_result"
    }
   ],
   "source": [
    "biodata.get('Nama')"
   ]
  },
  {
   "cell_type": "code",
   "execution_count": 37,
   "id": "bdba517d-c389-457c-9a93-a7ba22220101",
   "metadata": {},
   "outputs": [
    {
     "data": {
      "text/plain": [
       "'Informatika'"
      ]
     },
     "execution_count": 37,
     "metadata": {},
     "output_type": "execute_result"
    }
   ],
   "source": [
    "biodata['Prodi']"
   ]
  },
  {
   "cell_type": "code",
   "execution_count": 39,
   "id": "d6388b05-c7e3-481c-ab60-d4621e2235fc",
   "metadata": {},
   "outputs": [
    {
     "name": "stdout",
     "output_type": "stream",
     "text": [
      "{'Leaves', 'Grass'}\n"
     ]
    }
   ],
   "source": [
    "Green = {'Grass','Leaves'}\n",
    "print(Green)"
   ]
  },
  {
   "cell_type": "code",
   "execution_count": 40,
   "id": "a571d6b6-b2a9-48d3-9efa-5415b779fed9",
   "metadata": {},
   "outputs": [
    {
     "name": "stdout",
     "output_type": "stream",
     "text": [
      "{'Leaves', 'Grass'}\n"
     ]
    }
   ],
   "source": [
    "Green = {'Grass','Leaves','Leaves','Grass'}\n",
    "print(Green)"
   ]
  },
  {
   "cell_type": "code",
   "execution_count": 42,
   "id": "54780f8c-679e-41d6-b8fe-3f5807dd0ec5",
   "metadata": {},
   "outputs": [
    {
     "data": {
      "text/plain": [
       "{'blood', 'dandelions', 'fire hydrant', 'leaves', 'rose'}"
      ]
     },
     "execution_count": 42,
     "metadata": {},
     "output_type": "execute_result"
    }
   ],
   "source": [
    "yellow = {'dandelions', 'leaves', 'fire hydrant'}\n",
    "red = {'rose','blood','leaves','fire hydrant' }\n",
    "\n",
    "yellow|red"
   ]
  },
  {
   "cell_type": "code",
   "execution_count": 43,
   "id": "1e0a251d-5f5b-4bf0-a5dd-e8aaf39137f7",
   "metadata": {},
   "outputs": [
    {
     "data": {
      "text/plain": [
       "{'fire hydrant', 'leaves'}"
      ]
     },
     "execution_count": 43,
     "metadata": {},
     "output_type": "execute_result"
    }
   ],
   "source": [
    "yellow&red"
   ]
  },
  {
   "cell_type": "code",
   "execution_count": 44,
   "id": "7f1d62a1-9ddf-4678-8b79-9692ab913d91",
   "metadata": {},
   "outputs": [],
   "source": [
    "import pandas as pd\n",
    "df = pd.DataFrame([['1','Fares',32,True],['2','Elena',23,False],['3','Steven',40,True]])\n"
   ]
  },
  {
   "cell_type": "code",
   "execution_count": 45,
   "id": "f489f103-889d-456a-b08f-b45d72c539d8",
   "metadata": {},
   "outputs": [
    {
     "name": "stdout",
     "output_type": "stream",
     "text": [
      "   0       1   2      3\n",
      "0  1   Fares  32   True\n",
      "1  2   Elena  23  False\n",
      "2  3  Steven  40   True\n"
     ]
    }
   ],
   "source": [
    "print(df)"
   ]
  },
  {
   "cell_type": "code",
   "execution_count": 50,
   "id": "3587a64f-32a5-40d7-b5a5-2fe621a3bd88",
   "metadata": {},
   "outputs": [
    {
     "data": {
      "text/html": [
       "<div>\n",
       "<style scoped>\n",
       "    .dataframe tbody tr th:only-of-type {\n",
       "        vertical-align: middle;\n",
       "    }\n",
       "\n",
       "    .dataframe tbody tr th {\n",
       "        vertical-align: top;\n",
       "    }\n",
       "\n",
       "    .dataframe thead th {\n",
       "        text-align: right;\n",
       "    }\n",
       "</style>\n",
       "<table border=\"1\" class=\"dataframe\">\n",
       "  <thead>\n",
       "    <tr style=\"text-align: right;\">\n",
       "      <th></th>\n",
       "      <th>id</th>\n",
       "      <th>name</th>\n",
       "      <th>age</th>\n",
       "      <th>decision</th>\n",
       "    </tr>\n",
       "  </thead>\n",
       "  <tbody>\n",
       "    <tr>\n",
       "      <th>0</th>\n",
       "      <td>1</td>\n",
       "      <td>Fares</td>\n",
       "      <td>32</td>\n",
       "      <td>True</td>\n",
       "    </tr>\n",
       "    <tr>\n",
       "      <th>1</th>\n",
       "      <td>2</td>\n",
       "      <td>Elena</td>\n",
       "      <td>23</td>\n",
       "      <td>False</td>\n",
       "    </tr>\n",
       "    <tr>\n",
       "      <th>2</th>\n",
       "      <td>3</td>\n",
       "      <td>Steven</td>\n",
       "      <td>40</td>\n",
       "      <td>True</td>\n",
       "    </tr>\n",
       "  </tbody>\n",
       "</table>\n",
       "</div>"
      ],
      "text/plain": [
       "  id    name  age  decision\n",
       "0  1   Fares   32      True\n",
       "1  2   Elena   23     False\n",
       "2  3  Steven   40      True"
      ]
     },
     "execution_count": 50,
     "metadata": {},
     "output_type": "execute_result"
    }
   ],
   "source": [
    "df"
   ]
  },
  {
   "cell_type": "code",
   "execution_count": 51,
   "id": "832ff7d5-5259-4ae5-a7ad-467f41f54f53",
   "metadata": {},
   "outputs": [
    {
     "data": {
      "text/html": [
       "<div>\n",
       "<style scoped>\n",
       "    .dataframe tbody tr th:only-of-type {\n",
       "        vertical-align: middle;\n",
       "    }\n",
       "\n",
       "    .dataframe tbody tr th {\n",
       "        vertical-align: top;\n",
       "    }\n",
       "\n",
       "    .dataframe thead th {\n",
       "        text-align: right;\n",
       "    }\n",
       "</style>\n",
       "<table border=\"1\" class=\"dataframe\">\n",
       "  <thead>\n",
       "    <tr style=\"text-align: right;\">\n",
       "      <th></th>\n",
       "      <th>name</th>\n",
       "      <th>age</th>\n",
       "    </tr>\n",
       "  </thead>\n",
       "  <tbody>\n",
       "    <tr>\n",
       "      <th>0</th>\n",
       "      <td>Fares</td>\n",
       "      <td>32</td>\n",
       "    </tr>\n",
       "    <tr>\n",
       "      <th>1</th>\n",
       "      <td>Elena</td>\n",
       "      <td>23</td>\n",
       "    </tr>\n",
       "    <tr>\n",
       "      <th>2</th>\n",
       "      <td>Steven</td>\n",
       "      <td>40</td>\n",
       "    </tr>\n",
       "  </tbody>\n",
       "</table>\n",
       "</div>"
      ],
      "text/plain": [
       "     name  age\n",
       "0   Fares   32\n",
       "1   Elena   23\n",
       "2  Steven   40"
      ]
     },
     "execution_count": 51,
     "metadata": {},
     "output_type": "execute_result"
    }
   ],
   "source": [
    "df[['name','age']]"
   ]
  },
  {
   "cell_type": "code",
   "execution_count": 52,
   "id": "aa9ded6a-f310-460c-838a-f401909de755",
   "metadata": {},
   "outputs": [
    {
     "data": {
      "text/plain": [
       "0     True\n",
       "1    False\n",
       "2     True\n",
       "Name: decision, dtype: bool"
      ]
     },
     "execution_count": 52,
     "metadata": {},
     "output_type": "execute_result"
    }
   ],
   "source": [
    "df.iloc[:,3]"
   ]
  },
  {
   "cell_type": "code",
   "execution_count": 53,
   "id": "26933e24-a6ca-4536-83f5-9dcc9b90643c",
   "metadata": {},
   "outputs": [
    {
     "data": {
      "text/html": [
       "<div>\n",
       "<style scoped>\n",
       "    .dataframe tbody tr th:only-of-type {\n",
       "        vertical-align: middle;\n",
       "    }\n",
       "\n",
       "    .dataframe tbody tr th {\n",
       "        vertical-align: top;\n",
       "    }\n",
       "\n",
       "    .dataframe thead th {\n",
       "        text-align: right;\n",
       "    }\n",
       "</style>\n",
       "<table border=\"1\" class=\"dataframe\">\n",
       "  <thead>\n",
       "    <tr style=\"text-align: right;\">\n",
       "      <th></th>\n",
       "      <th>id</th>\n",
       "      <th>name</th>\n",
       "      <th>age</th>\n",
       "      <th>decision</th>\n",
       "    </tr>\n",
       "  </thead>\n",
       "  <tbody>\n",
       "    <tr>\n",
       "      <th>1</th>\n",
       "      <td>2</td>\n",
       "      <td>Elena</td>\n",
       "      <td>23</td>\n",
       "      <td>False</td>\n",
       "    </tr>\n",
       "    <tr>\n",
       "      <th>2</th>\n",
       "      <td>3</td>\n",
       "      <td>Steven</td>\n",
       "      <td>40</td>\n",
       "      <td>True</td>\n",
       "    </tr>\n",
       "  </tbody>\n",
       "</table>\n",
       "</div>"
      ],
      "text/plain": [
       "  id    name  age  decision\n",
       "1  2   Elena   23     False\n",
       "2  3  Steven   40      True"
      ]
     },
     "execution_count": 53,
     "metadata": {},
     "output_type": "execute_result"
    }
   ],
   "source": [
    "df.iloc[1:3,:]"
   ]
  },
  {
   "cell_type": "code",
   "execution_count": 54,
   "id": "fb4b0020-dd4e-43d4-9d70-42b096e82587",
   "metadata": {},
   "outputs": [
    {
     "data": {
      "text/html": [
       "<div>\n",
       "<style scoped>\n",
       "    .dataframe tbody tr th:only-of-type {\n",
       "        vertical-align: middle;\n",
       "    }\n",
       "\n",
       "    .dataframe tbody tr th {\n",
       "        vertical-align: top;\n",
       "    }\n",
       "\n",
       "    .dataframe thead th {\n",
       "        text-align: right;\n",
       "    }\n",
       "</style>\n",
       "<table border=\"1\" class=\"dataframe\">\n",
       "  <thead>\n",
       "    <tr style=\"text-align: right;\">\n",
       "      <th></th>\n",
       "      <th>id</th>\n",
       "      <th>name</th>\n",
       "      <th>age</th>\n",
       "      <th>decision</th>\n",
       "    </tr>\n",
       "  </thead>\n",
       "  <tbody>\n",
       "    <tr>\n",
       "      <th>0</th>\n",
       "      <td>1</td>\n",
       "      <td>Fares</td>\n",
       "      <td>32</td>\n",
       "      <td>True</td>\n",
       "    </tr>\n",
       "    <tr>\n",
       "      <th>2</th>\n",
       "      <td>3</td>\n",
       "      <td>Steven</td>\n",
       "      <td>40</td>\n",
       "      <td>True</td>\n",
       "    </tr>\n",
       "  </tbody>\n",
       "</table>\n",
       "</div>"
      ],
      "text/plain": [
       "  id    name  age  decision\n",
       "0  1   Fares   32      True\n",
       "2  3  Steven   40      True"
      ]
     },
     "execution_count": 54,
     "metadata": {},
     "output_type": "execute_result"
    }
   ],
   "source": [
    "df[df.age>30]"
   ]
  },
  {
   "cell_type": "code",
   "execution_count": 55,
   "id": "0b64b641-3f76-43de-bb5b-4fbe7d850535",
   "metadata": {},
   "outputs": [
    {
     "data": {
      "text/html": [
       "<div>\n",
       "<style scoped>\n",
       "    .dataframe tbody tr th:only-of-type {\n",
       "        vertical-align: middle;\n",
       "    }\n",
       "\n",
       "    .dataframe tbody tr th {\n",
       "        vertical-align: top;\n",
       "    }\n",
       "\n",
       "    .dataframe thead th {\n",
       "        text-align: right;\n",
       "    }\n",
       "</style>\n",
       "<table border=\"1\" class=\"dataframe\">\n",
       "  <thead>\n",
       "    <tr style=\"text-align: right;\">\n",
       "      <th></th>\n",
       "      <th>id</th>\n",
       "      <th>name</th>\n",
       "      <th>age</th>\n",
       "      <th>decision</th>\n",
       "    </tr>\n",
       "  </thead>\n",
       "  <tbody>\n",
       "    <tr>\n",
       "      <th>0</th>\n",
       "      <td>1</td>\n",
       "      <td>Fares</td>\n",
       "      <td>32</td>\n",
       "      <td>True</td>\n",
       "    </tr>\n",
       "  </tbody>\n",
       "</table>\n",
       "</div>"
      ],
      "text/plain": [
       "  id   name  age  decision\n",
       "0  1  Fares   32      True"
      ]
     },
     "execution_count": 55,
     "metadata": {},
     "output_type": "execute_result"
    }
   ],
   "source": [
    "df[(df.age<35)&(df.decision==True)]"
   ]
  },
  {
   "cell_type": "code",
   "execution_count": 62,
   "id": "66fa9d68-a48d-479a-ac3e-3fafcc164401",
   "metadata": {},
   "outputs": [],
   "source": [
    "mhs=pd.DataFrame([['informatika',50,30,20],['Sistem Informasi',55,30,25],['Teknik Sipil', 40,30,10]])"
   ]
  },
  {
   "cell_type": "code",
   "execution_count": 64,
   "id": "0be58017-1a47-4cc8-82f3-27ddd72b523e",
   "metadata": {},
   "outputs": [
    {
     "data": {
      "text/html": [
       "<div>\n",
       "<style scoped>\n",
       "    .dataframe tbody tr th:only-of-type {\n",
       "        vertical-align: middle;\n",
       "    }\n",
       "\n",
       "    .dataframe tbody tr th {\n",
       "        vertical-align: top;\n",
       "    }\n",
       "\n",
       "    .dataframe thead th {\n",
       "        text-align: right;\n",
       "    }\n",
       "</style>\n",
       "<table border=\"1\" class=\"dataframe\">\n",
       "  <thead>\n",
       "    <tr style=\"text-align: right;\">\n",
       "      <th></th>\n",
       "      <th>0</th>\n",
       "      <th>1</th>\n",
       "      <th>2</th>\n",
       "      <th>3</th>\n",
       "    </tr>\n",
       "  </thead>\n",
       "  <tbody>\n",
       "    <tr>\n",
       "      <th>0</th>\n",
       "      <td>informatika</td>\n",
       "      <td>50</td>\n",
       "      <td>30</td>\n",
       "      <td>20</td>\n",
       "    </tr>\n",
       "    <tr>\n",
       "      <th>1</th>\n",
       "      <td>Sistem Informasi</td>\n",
       "      <td>55</td>\n",
       "      <td>30</td>\n",
       "      <td>25</td>\n",
       "    </tr>\n",
       "    <tr>\n",
       "      <th>2</th>\n",
       "      <td>Teknik Sipil</td>\n",
       "      <td>40</td>\n",
       "      <td>30</td>\n",
       "      <td>10</td>\n",
       "    </tr>\n",
       "  </tbody>\n",
       "</table>\n",
       "</div>"
      ],
      "text/plain": [
       "                  0   1   2   3\n",
       "0       informatika  50  30  20\n",
       "1  Sistem Informasi  55  30  25\n",
       "2      Teknik Sipil  40  30  10"
      ]
     },
     "execution_count": 64,
     "metadata": {},
     "output_type": "execute_result"
    }
   ],
   "source": [
    "mhs"
   ]
  },
  {
   "cell_type": "code",
   "execution_count": 65,
   "id": "6b48acd7-7c84-487e-bf45-ed818eb64fee",
   "metadata": {},
   "outputs": [
    {
     "name": "stdout",
     "output_type": "stream",
     "text": [
      "[[11 12 13]\n",
      " [21 22 23]\n",
      " [31 32 33]]\n"
     ]
    }
   ],
   "source": [
    "import numpy as np\n",
    "myMatrix = np.array([[11, 12, 13], [21, 22, 23], [31, 32, 33]])\n",
    "print(myMatrix)"
   ]
  },
  {
   "cell_type": "code",
   "execution_count": 66,
   "id": "e0bd1a50-9133-49b8-9019-162694dd49e3",
   "metadata": {},
   "outputs": [
    {
     "name": "stdout",
     "output_type": "stream",
     "text": [
      "<class 'numpy.ndarray'>\n"
     ]
    }
   ],
   "source": [
    "print(type(myMatrix))"
   ]
  },
  {
   "cell_type": "code",
   "execution_count": 86,
   "id": "fb02af9d-fcd2-497d-a7c7-d951ab9243ff",
   "metadata": {},
   "outputs": [
    {
     "name": "stdout",
     "output_type": "stream",
     "text": [
      "[[ 100  200  300]\n",
      " [ 700  600  500]\n",
      " [ 900 1000  800]]\n"
     ]
    }
   ],
   "source": [
    "Matrix = np.array([[100, 200, 300], [700, 600, 500], [900, 1000, 800]])\n",
    "print(Matrix)"
   ]
  },
  {
   "cell_type": "code",
   "execution_count": 3,
   "id": "93f78fd5-fb35-4ae0-9e07-dac0b79e6c7f",
   "metadata": {},
   "outputs": [],
   "source": [
    "class Stack:\n",
    "    def __init__(self):\n",
    "        self.items = []\n",
    "    def isEmpty(self):\n",
    "        return self.items == []\n",
    "    def push(self, item):\n",
    "        self.items.append(item)\n",
    "    def pop(self):\n",
    "        return self.items.pop()\n",
    "    def peek(self):\n",
    "        return self.items[len(self.items)-1]\n",
    "    def size(self):\n",
    "        return len(self.items)"
   ]
  },
  {
   "cell_type": "code",
   "execution_count": 4,
   "id": "aac83616-afd7-4fb3-9306-03fba04f04e4",
   "metadata": {},
   "outputs": [],
   "source": [
    "stack = Stack()\n",
    "stack.push('Red')\n",
    "stack.push('Green')\n",
    "stack.push('Blue')\n",
    "stack.push('Yellow')"
   ]
  },
  {
   "cell_type": "code",
   "execution_count": 5,
   "id": "e7f2fa51-9fc7-4202-a9cd-34a3ddc787a2",
   "metadata": {},
   "outputs": [
    {
     "name": "stdout",
     "output_type": "stream",
     "text": [
      "Yellow\n"
     ]
    }
   ],
   "source": [
    "print(stack.pop())"
   ]
  },
  {
   "cell_type": "code",
   "execution_count": 6,
   "id": "dee27ded-b9a2-40ef-b7f3-e716de56e850",
   "metadata": {},
   "outputs": [
    {
     "name": "stdout",
     "output_type": "stream",
     "text": [
      "False\n"
     ]
    }
   ],
   "source": [
    "print(stack.isEmpty())"
   ]
  },
  {
   "cell_type": "code",
   "execution_count": 7,
   "id": "dd81752c-b89a-422c-81d5-69cbf1991a43",
   "metadata": {},
   "outputs": [],
   "source": [
    "class Queue(object):\n",
    "    def __init__(self):\n",
    "        self.items = []\n",
    "    def isEmpty(self):\n",
    "        return self.items == []\n",
    "    def enqueue(self, item):\n",
    "        self.items.insert(0,item)\n",
    "    def dequeue(self):\n",
    "        return self.items.pop()\n",
    "    def size(self):\n",
    "        return len(self.items)"
   ]
  },
  {
   "cell_type": "code",
   "execution_count": 8,
   "id": "d2f6f136-a567-4ca3-bff4-e40308bec8c0",
   "metadata": {},
   "outputs": [
    {
     "name": "stdout",
     "output_type": "stream",
     "text": [
      "4\n"
     ]
    }
   ],
   "source": [
    "queue =  Queue()\n",
    "queue.enqueue('Red')\n",
    "queue.enqueue('Green')\n",
    "queue.enqueue('Blue')\n",
    "queue.enqueue('Yellow')\n",
    "print(queue.size())"
   ]
  },
  {
   "cell_type": "code",
   "execution_count": 9,
   "id": "a531eb6e-1f36-410f-a46a-97a4e348d81b",
   "metadata": {},
   "outputs": [
    {
     "name": "stdout",
     "output_type": "stream",
     "text": [
      "Red\n"
     ]
    }
   ],
   "source": [
    "print(queue.dequeue())"
   ]
  },
  {
   "cell_type": "code",
   "execution_count": 10,
   "id": "32303288-c62b-4185-bbe0-057c85713c76",
   "metadata": {},
   "outputs": [
    {
     "name": "stdout",
     "output_type": "stream",
     "text": [
      "Green\n"
     ]
    }
   ],
   "source": [
    "print(queue.dequeue())"
   ]
  },
  {
   "cell_type": "code",
   "execution_count": null,
   "id": "73da42be-3430-4803-a816-8d95c1e91053",
   "metadata": {},
   "outputs": [],
   "source": []
  }
 ],
 "metadata": {
  "kernelspec": {
   "display_name": "Python 3",
   "language": "python",
   "name": "python3"
  },
  "language_info": {
   "codemirror_mode": {
    "name": "ipython",
    "version": 3
   },
   "file_extension": ".py",
   "mimetype": "text/x-python",
   "name": "python",
   "nbconvert_exporter": "python",
   "pygments_lexer": "ipython3",
   "version": "3.8.8"
  }
 },
 "nbformat": 4,
 "nbformat_minor": 5
}
