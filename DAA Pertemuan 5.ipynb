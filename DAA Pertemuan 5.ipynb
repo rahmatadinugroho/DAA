{
 "cells": [
  {
   "cell_type": "code",
   "execution_count": 4,
   "id": "2f29c6f8-443b-4530-af93-21a8dd687d59",
   "metadata": {},
   "outputs": [],
   "source": [
    "#hitung  Inversi \n",
    "\n",
    "def CountInversion(arr):\n",
    "    result = 0 \n",
    "    for i in range(len(arr)):\n",
    "        for j in range(i+1,len(arr)):\n",
    "            if arr[i]>arr[j]:\n",
    "                result+=1\n",
    "    return result"
   ]
  },
  {
   "cell_type": "code",
   "execution_count": 5,
   "id": "dd408194-ffd4-499c-97d1-c3763177ded8",
   "metadata": {},
   "outputs": [],
   "source": [
    "arr=[21, 70, 36, 14, 25]"
   ]
  },
  {
   "cell_type": "code",
   "execution_count": 6,
   "id": "18bee9e1-ba7f-48e7-8131-e0f83539ae4c",
   "metadata": {},
   "outputs": [
    {
     "name": "stdout",
     "output_type": "stream",
     "text": [
      "6\n"
     ]
    }
   ],
   "source": [
    "result=CountInversion(arr)\n",
    "print(result)"
   ]
  },
  {
   "cell_type": "code",
   "execution_count": 16,
   "id": "39f7b1be-9e85-4dda-b16e-4f5d740ab533",
   "metadata": {},
   "outputs": [],
   "source": [
    "#hitung  inversi dengan divide dan conquer\n",
    "\n",
    "def CountInversion(arr):\n",
    "    icount=0\n",
    "    if len(arr)<= 1: # lenn(arr) == panjang array \n",
    "        return icount\n",
    "    \n",
    "    mid = len(arr)//2\n",
    "    left=arr[:mid]\n",
    "    right=arr[mid:]\n",
    "    icount+=CountInversion(left)\n",
    "    icount+=CountInversion(right)\n",
    "    i=j=k=0\n",
    "    \n",
    "    #print(left)\n",
    "    #print(right)\n",
    "    while i<len(left) and j<len(right):\n",
    "        if left[i]<right[j]:\n",
    "            arr[k]=left[i]\n",
    "            i+=1\n",
    "        else:\n",
    "            #print(Left[i], right[j])\n",
    "            arr[k]=right[j]\n",
    "            j+=1\n",
    "            icount+=(mid-i)\n",
    "        k+=1\n",
    "        \n",
    "    while i<len(left):\n",
    "        arr[k]=left[i]\n",
    "        i+=1\n",
    "        k+=1\n",
    "    while j<len(right):\n",
    "        arr[k]=right[j]\n",
    "        j+=1\n",
    "        k+=1\n",
    "\n",
    "    return icount"
   ]
  },
  {
   "cell_type": "code",
   "execution_count": 17,
   "id": "ab65d719-0955-40e5-83af-1fb1a72933b7",
   "metadata": {},
   "outputs": [],
   "source": [
    "arr=[1,20,6,4,5]"
   ]
  },
  {
   "cell_type": "code",
   "execution_count": 18,
   "id": "8f4b2d5f-b330-452e-9f46-eb86f38a28aa",
   "metadata": {},
   "outputs": [
    {
     "name": "stdout",
     "output_type": "stream",
     "text": [
      "5\n"
     ]
    }
   ],
   "source": [
    "result= CountInversion(arr)\n",
    "print(result)"
   ]
  },
  {
   "cell_type": "code",
   "execution_count": 24,
   "id": "a37313c8-80de-47c7-adc6-b7e8b17adcdc",
   "metadata": {},
   "outputs": [],
   "source": [
    "# Tanpa divede dan conquer\n",
    "\n",
    "def maxSubSum(arr):\n",
    "    max_so_far=0\n",
    "    max_ending_here=0\n",
    "    for i in range(len(arr)):\n",
    "        max_ending_here+=arr[i]\n",
    "        if max_ending_here>max_so_far:\n",
    "            max_so_far=max_ending_here\n",
    "        if max_ending_here<0:\n",
    "            max_ending_here=0\n",
    "    return max_so_far"
   ]
  },
  {
   "cell_type": "code",
   "execution_count": 25,
   "id": "8dd5a403-5f65-4e98-a219-e596f1ef4525",
   "metadata": {},
   "outputs": [
    {
     "name": "stdout",
     "output_type": "stream",
     "text": [
      "7\n"
     ]
    }
   ],
   "source": [
    "arr=[-2, -5, 6, -2, -3, 1, 5, -6]\n",
    "result = maxSubSum(arr)\n",
    "print(result)"
   ]
  },
  {
   "cell_type": "code",
   "execution_count": 33,
   "id": "bbbca5ed-d26a-4918-8e81-21f96907b219",
   "metadata": {},
   "outputs": [],
   "source": [
    "# menggunakan divede and conquer\n",
    "\n",
    "def maxCrossingSum(arr,low,mid,high):\n",
    "    result=0; leftSum=float('-infinity')\n",
    "    for i in range(mid,low-1,-1):\n",
    "        result+=arr[i]\n",
    "        if result>leftSum:\n",
    "            leftSum=result\n",
    "    result=0; rightSum=float('-infinity')\n",
    "    for i in range(mid+1,high+1):\n",
    "        result+=arr[i]\n",
    "        if result>rightSum:\n",
    "            rightSum=result\n",
    "    return leftSum+rightSum\n",
    "\n",
    "def maxSum(arr, low, high):\n",
    "    if low==high:\n",
    "        return arr[low]\n",
    "    mid=(low+high)//2\n",
    "    return max(maxSum(arr,low,mid), maxSum(arr,mid+1,high),maxCrossingSum(arr,low,mid,high))        "
   ]
  },
  {
   "cell_type": "code",
   "execution_count": 35,
   "id": "64266434-2a0a-4c84-af5c-9033f7327c9f",
   "metadata": {},
   "outputs": [
    {
     "name": "stdout",
     "output_type": "stream",
     "text": [
      "7\n"
     ]
    }
   ],
   "source": [
    "arr=[-2, -5, 6, -2, -3, 1, 5, -6]\n",
    "result=maxSum(arr,0,len(arr)-1)\n",
    "print(result)"
   ]
  },
  {
   "cell_type": "code",
   "execution_count": 7,
   "id": "10658540-5abf-4083-9570-bbe44c892c02",
   "metadata": {},
   "outputs": [],
   "source": [
    "# Dengan divide dan conquer\n",
    "\n",
    "def commonPrefix(str1,str2):\n",
    "    n1=len(str1);n2=len(str2)\n",
    "    i,j=0,0\n",
    "    s=\"\"\n",
    "    while i<n1 and j<n2:\n",
    "        if str1[i]==str2[j]:\n",
    "            s+=str1[i]\n",
    "            i+=1\n",
    "            j+=1\n",
    "        else:\n",
    "            break\n",
    "    return s"
   ]
  },
  {
   "cell_type": "code",
   "execution_count": 8,
   "id": "d72c5c24-b2b2-4c2a-b763-c76291479a50",
   "metadata": {},
   "outputs": [],
   "source": [
    "def longestCommonPrefix(arr,low,high):\n",
    "    if low==high:\n",
    "        return arr[low]\n",
    "    mid=(low+high)//2\n",
    "    result1=longestCommonPrefix(arr,low,mid)\n",
    "    result2=longestCommonPrefix(arr,mid+1,high)\n",
    "    result=commonPrefix(result1,result2)\n",
    "    return result"
   ]
  },
  {
   "cell_type": "code",
   "execution_count": 9,
   "id": "437a84dd-4531-435e-8651-e1a416f03a0b",
   "metadata": {},
   "outputs": [],
   "source": [
    "arr=['geeksforgeeks', 'geeks', 'geek', 'geezer']"
   ]
  },
  {
   "cell_type": "code",
   "execution_count": 10,
   "id": "f1f6bd15-28e5-447a-bdd5-f8eb838315d0",
   "metadata": {},
   "outputs": [],
   "source": [
    "result = longestCommonPrefix(arr,0,len(arr)-1)"
   ]
  },
  {
   "cell_type": "code",
   "execution_count": 11,
   "id": "49f92912-e792-45a3-a415-035dae6c1a92",
   "metadata": {},
   "outputs": [
    {
     "name": "stdout",
     "output_type": "stream",
     "text": [
      "gee\n"
     ]
    }
   ],
   "source": [
    "print(result)"
   ]
  },
  {
   "cell_type": "code",
   "execution_count": 12,
   "id": "acf000e5-8034-4c2d-8ed4-ed6dfd92ab32",
   "metadata": {},
   "outputs": [
    {
     "name": "stdout",
     "output_type": "stream",
     "text": [
      "ap\n"
     ]
    }
   ],
   "source": [
    "arr=[\"apple\", \"ape\", \"april\"]\n",
    "result = longestCommonPrefix(arr,0,len(arr)-1)\n",
    "print(result)"
   ]
  },
  {
   "cell_type": "code",
   "execution_count": 17,
   "id": "f8645f82-6c63-465b-a545-b471a82d8dd5",
   "metadata": {},
   "outputs": [],
   "source": [
    "# median dari dua array dengan divide dan conquer\n",
    "\n",
    "def medianOfArray(arr1,arr2,n):\n",
    "    m1= -1 #first number\n",
    "    m2= -1 #second number\n",
    "    count=0\n",
    "    i=j=0\n",
    "    while count<n+1:\n",
    "        count+=1\n",
    "        if i==n: # i==5 index error if arr1[i]<arr2[j] is checked\n",
    "            m1=m2\n",
    "            m2=arr2[0]\n",
    "            break\n",
    "        if j==n:\n",
    "            m1=m2\n",
    "            m2=arr1[0]\n",
    "            break\n",
    "        if arr1[i]<arr2[j]:\n",
    "            m1=m2\n",
    "            m2=arr1[i]\n",
    "            i+=1\n",
    "        else:\n",
    "            m1=m2\n",
    "            m2=arr2[j]\n",
    "            j+=1\n",
    "    return (m1+m2)//2"
   ]
  },
  {
   "cell_type": "code",
   "execution_count": 18,
   "id": "9f0a5c92-096b-4501-90b5-8cd941b9f7d9",
   "metadata": {},
   "outputs": [],
   "source": [
    "arr1=[1,12,15,26,38]\n",
    "arr2=[2,13,17,30,45]"
   ]
  },
  {
   "cell_type": "code",
   "execution_count": 19,
   "id": "08a72ea7-f3c2-4ba0-b168-ee68c503f1e5",
   "metadata": {},
   "outputs": [
    {
     "name": "stdout",
     "output_type": "stream",
     "text": [
      "16\n"
     ]
    }
   ],
   "source": [
    "print(medianOfArray(arr1,arr2,len(arr1)))"
   ]
  },
  {
   "cell_type": "code",
   "execution_count": 21,
   "id": "37da588e-8f6c-4260-97d3-1db46faee870",
   "metadata": {},
   "outputs": [],
   "source": [
    "# Flooe in sorted array\n",
    "\n",
    "def floorSorted(arr, low, high, x):\n",
    "    #print(low,high)\n",
    "    if low>high:\n",
    "        return -1\n",
    "    \n",
    "    if arr[low]>x:\n",
    "        #print(\"inside\")\n",
    "        return -1\n",
    "    \n",
    "    if arr[high]<=x:\n",
    "        return arr[high]\n",
    "    \n",
    "    mid=(low+high)//2\n",
    "    \n",
    "    if arr[mid]==x:\n",
    "        return arr[mid]\n",
    "    \n",
    "    if mid>0 and x>=arr[mid-1] and arr[mid]>x:\n",
    "        return arr[mid-1]\n",
    "    \n",
    "    if mid<high and x<arr[mid+1] and x>=arr[mid]:\n",
    "        return arr[mid]\n",
    "    \n",
    "    if x>arr[mid]:\n",
    "        return floorSorted(arr,mid+1,high,x)\n",
    "    else:\n",
    "        return floorSorted(arr,low,mid-1,x)\n",
    "    "
   ]
  },
  {
   "cell_type": "code",
   "execution_count": 22,
   "id": "9866fe67-5153-4175-bb29-2bbb7d5a54be",
   "metadata": {},
   "outputs": [],
   "source": [
    "arr=[1,2,8,10,12,14,19]"
   ]
  },
  {
   "cell_type": "code",
   "execution_count": 23,
   "id": "4fb4867f-0d3d-4754-a8ca-90480368ea89",
   "metadata": {},
   "outputs": [],
   "source": [
    "x=5"
   ]
  },
  {
   "cell_type": "code",
   "execution_count": 24,
   "id": "7af1f8a5-4613-4611-be09-cd173a2c35e2",
   "metadata": {},
   "outputs": [
    {
     "name": "stdout",
     "output_type": "stream",
     "text": [
      "2\n"
     ]
    }
   ],
   "source": [
    "print(floorSorted(arr,0,len(arr)-1,x))"
   ]
  },
  {
   "cell_type": "code",
   "execution_count": 26,
   "id": "66c23a5b-95aa-42c6-ba14-309a5c4c473e",
   "metadata": {},
   "outputs": [],
   "source": [
    "#mencari nilai terdekat dengan metode divede dan conquer\n",
    "\n",
    "def closestNumber(arr,low,high,x):\n",
    "    if low>high:\n",
    "        return -1\n",
    "    if arr[high]<=x:\n",
    "        return arr[high]\n",
    "    if arr[low]>=x:\n",
    "        return arr[low]\n",
    "    mid=(low+high)//2\n",
    "    if arr[mid]==x:\n",
    "        return arr[mid]\n",
    "    abs_mid=abs(arr[mid]-x)\n",
    "    if mid>0:\n",
    "        abs_left=abs(arr[mid-1]-x)\n",
    "        if abs_left<abs_mid:\n",
    "            return closestNumber(arr,low,mid-1,x)\n",
    "    if mid<high:\n",
    "        abs_right=abs(arr[mid+1]-x)\n",
    "        if abs_right<abs_mid:\n",
    "            return closestNumber(arr,mid+1,high,x)\n",
    "        #print('after')\n",
    "        return arr[mid]"
   ]
  },
  {
   "cell_type": "code",
   "execution_count": 27,
   "id": "d51fd406-e6f0-4d5b-90dd-36f71b8cf2f6",
   "metadata": {},
   "outputs": [],
   "source": [
    "arr=[2,5,6,7,8,9]"
   ]
  },
  {
   "cell_type": "code",
   "execution_count": 28,
   "id": "f2a7b060-978a-4f2b-8781-a446a923cca5",
   "metadata": {},
   "outputs": [],
   "source": [
    "x=9"
   ]
  },
  {
   "cell_type": "code",
   "execution_count": 29,
   "id": "fc63f193-f0c3-4a3c-be5a-14b7a25f5f3d",
   "metadata": {},
   "outputs": [
    {
     "name": "stdout",
     "output_type": "stream",
     "text": [
      "9\n"
     ]
    }
   ],
   "source": [
    "print(closestNumber(arr,0,len(arr)-1,x))"
   ]
  },
  {
   "cell_type": "code",
   "execution_count": 30,
   "id": "b8da961b-c698-44e1-b027-853299fcefeb",
   "metadata": {},
   "outputs": [],
   "source": [
    "# mencari Fixed Point dengan metode divide dan conquer\n",
    "\n",
    "def fixedPoint(arr,low,high):\n",
    "    if low>high:\n",
    "        return -1\n",
    "    if arr[high]==high:\n",
    "        return arr[high]\n",
    "    if arr[low]==low:\n",
    "        return arr[low]\n",
    "    mid=(low+high)//2\n",
    "    if arr[mid]==mid:\n",
    "        return arr[mid]\n",
    "    if mid>arr[mid]:\n",
    "        return fixedPoint(arr,mid+1,high)\n",
    "    else:\n",
    "        return fixedPoint(arr,low,mid-1)"
   ]
  },
  {
   "cell_type": "code",
   "execution_count": 31,
   "id": "21780f4c-e156-49cc-8dc7-af99b785b673",
   "metadata": {},
   "outputs": [],
   "source": [
    "arr=[9,1,4,5,2]"
   ]
  },
  {
   "cell_type": "code",
   "execution_count": 33,
   "id": "f4183ecb-7e1a-4bed-af07-6671cda59235",
   "metadata": {},
   "outputs": [
    {
     "name": "stdout",
     "output_type": "stream",
     "text": [
      "1\n"
     ]
    }
   ],
   "source": [
    "print(fixedPoint(arr,0,len(arr)-1))"
   ]
  },
  {
   "cell_type": "code",
   "execution_count": null,
   "id": "e93bc174-b328-44ca-820f-026d596ccec1",
   "metadata": {},
   "outputs": [],
   "source": []
  }
 ],
 "metadata": {
  "kernelspec": {
   "display_name": "Python 3",
   "language": "python",
   "name": "python3"
  },
  "language_info": {
   "codemirror_mode": {
    "name": "ipython",
    "version": 3
   },
   "file_extension": ".py",
   "mimetype": "text/x-python",
   "name": "python",
   "nbconvert_exporter": "python",
   "pygments_lexer": "ipython3",
   "version": "3.8.8"
  }
 },
 "nbformat": 4,
 "nbformat_minor": 5
}
