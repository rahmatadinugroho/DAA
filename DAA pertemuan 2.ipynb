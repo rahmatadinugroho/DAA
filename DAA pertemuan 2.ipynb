{
 "cells": [
  {
   "cell_type": "code",
   "execution_count": 1,
   "id": "774fad89-1e2c-4db7-a26f-f42c99921fb9",
   "metadata": {},
   "outputs": [
    {
     "name": "stdout",
     "output_type": "stream",
     "text": [
      "1.20.1\n"
     ]
    }
   ],
   "source": [
    "import numpy as np \n",
    "print(np.__version__)"
   ]
  },
  {
   "cell_type": "code",
   "execution_count": 2,
   "id": "112e36ac-d41a-469a-b001-dbbd1ce6ecf8",
   "metadata": {},
   "outputs": [
    {
     "name": "stdout",
     "output_type": "stream",
     "text": [
      "HelloWorld!\n",
      "Nama saya (Rahmat Adi Nugroho)\n",
      "NIM saya (2020071017)\n"
     ]
    }
   ],
   "source": [
    "print(\"HelloWorld!\")\n",
    "print(\"Nama saya (Rahmat Adi Nugroho)\")\n",
    "print(\"NIM saya (2020071017)\")\n"
   ]
  },
  {
   "cell_type": "code",
   "execution_count": 3,
   "id": "66af8d32-40e4-4ebf-8be5-7387a841a67e",
   "metadata": {},
   "outputs": [
    {
     "name": "stdout",
     "output_type": "stream",
     "text": [
      "Five is greater than two!\n"
     ]
    }
   ],
   "source": [
    "if 5>2:\n",
    "    print(\"Five is greater than two!\")\n",
    "    "
   ]
  },
  {
   "cell_type": "code",
   "execution_count": 4,
   "id": "a87b1453-bd7a-4815-ba6f-fc456ebc63b3",
   "metadata": {},
   "outputs": [
    {
     "name": "stdout",
     "output_type": "stream",
     "text": [
      "5\n",
      "John\n"
     ]
    }
   ],
   "source": [
    "x = 5\n",
    "y = \"John\"\n",
    "print(x)\n",
    "print(y)"
   ]
  },
  {
   "cell_type": "code",
   "execution_count": 5,
   "id": "d33738f4-ae32-43a6-9ffb-0b83cfef91bc",
   "metadata": {},
   "outputs": [
    {
     "name": "stdout",
     "output_type": "stream",
     "text": [
      "Sally\n"
     ]
    }
   ],
   "source": [
    "x = 4\n",
    "x = \"Sally\"\n",
    "print(x)"
   ]
  },
  {
   "cell_type": "code",
   "execution_count": 1,
   "id": "f75d68da-2312-4ec5-bfca-5cb403489efc",
   "metadata": {},
   "outputs": [
    {
     "data": {
      "text/plain": [
       "1"
      ]
     },
     "execution_count": 1,
     "metadata": {},
     "output_type": "execute_result"
    }
   ],
   "source": [
    "def getFirst(myList):\n",
    "    return myList[0]\n",
    "getFirst([1,2,3])"
   ]
  },
  {
   "cell_type": "code",
   "execution_count": 2,
   "id": "071a8998-9904-48fb-9d2c-b4ba5c84557d",
   "metadata": {},
   "outputs": [
    {
     "data": {
      "text/plain": [
       "1"
      ]
     },
     "execution_count": 2,
     "metadata": {},
     "output_type": "execute_result"
    }
   ],
   "source": [
    "getFirst([1,2,3,4,5,6,7,8,9,10])"
   ]
  },
  {
   "cell_type": "code",
   "execution_count": 3,
   "id": "1b81bbd9-3e87-4b76-8880-e67f575fb062",
   "metadata": {},
   "outputs": [
    {
     "data": {
      "text/plain": [
       "3"
      ]
     },
     "execution_count": 3,
     "metadata": {},
     "output_type": "execute_result"
    }
   ],
   "source": [
    "def getSecond(myList):\n",
    "    return myList[1]\n",
    "getSecond([2,3,4])"
   ]
  },
  {
   "cell_type": "code",
   "execution_count": 4,
   "id": "f35f64e0-b1ab-419d-a726-d7fdd3b11208",
   "metadata": {},
   "outputs": [
    {
     "data": {
      "text/plain": [
       "4"
      ]
     },
     "execution_count": 4,
     "metadata": {},
     "output_type": "execute_result"
    }
   ],
   "source": [
    "def getLast(myList):\n",
    "    return myList[-1]\n",
    "getLast ([1,2,3,4])"
   ]
  },
  {
   "cell_type": "code",
   "execution_count": 5,
   "id": "1eb80c54-aeef-4101-afe5-19a733fe21d4",
   "metadata": {},
   "outputs": [
    {
     "data": {
      "text/plain": [
       "10"
      ]
     },
     "execution_count": 5,
     "metadata": {},
     "output_type": "execute_result"
    }
   ],
   "source": [
    "def getSum(myList):\n",
    "    sum = 0\n",
    "    for item in myList:\n",
    "        sum = sum+item\n",
    "    return sum\n",
    "getSum([1,2,3,4,])"
   ]
  },
  {
   "cell_type": "code",
   "execution_count": 1,
   "id": "bb416f82-0d2f-42af-bfde-66cd49e4fc73",
   "metadata": {},
   "outputs": [
    {
     "name": "stdout",
     "output_type": "stream",
     "text": [
      "1.20.1\n"
     ]
    }
   ],
   "source": [
    "import numpy as np \n",
    "print(np.__version__)"
   ]
  },
  {
   "cell_type": "code",
   "execution_count": 6,
   "id": "697b3dba-ad01-4156-bd98-1de2fb1eecd9",
   "metadata": {},
   "outputs": [
    {
     "data": {
      "text/plain": [
       "6"
      ]
     },
     "execution_count": 6,
     "metadata": {},
     "output_type": "execute_result"
    }
   ],
   "source": [
    "getSum([1,2,3])"
   ]
  },
  {
   "cell_type": "code",
   "execution_count": 7,
   "id": "d2935b25-4b98-483b-bc62-dd3ef577abde",
   "metadata": {},
   "outputs": [
    {
     "data": {
      "text/plain": [
       "10"
      ]
     },
     "execution_count": 7,
     "metadata": {},
     "output_type": "execute_result"
    }
   ],
   "source": [
    "def getKali(myList):\n",
    "    sum = 1\n",
    "    for item in myList:\n",
    "        sum = sum*item\n",
    "    return sum\n",
    "getKali([5,2])"
   ]
  },
  {
   "cell_type": "code",
   "execution_count": 8,
   "id": "46e93b7c-4b18-450f-a05e-8d7f0ac712f2",
   "metadata": {},
   "outputs": [
    {
     "data": {
      "text/plain": [
       "2.0"
      ]
     },
     "execution_count": 8,
     "metadata": {},
     "output_type": "execute_result"
    }
   ],
   "source": [
    "def getBagi(myList):\n",
    "    Bagi = 100\n",
    "    for item in myList:\n",
    "      Bagi = Bagi/item\n",
    "    return Bagi\n",
    "getBagi([10,5])"
   ]
  },
  {
   "cell_type": "code",
   "execution_count": 9,
   "id": "1bb0f5e9-96a3-4921-a620-fb8369601bd8",
   "metadata": {},
   "outputs": [
    {
     "data": {
      "text/plain": [
       "22"
      ]
     },
     "execution_count": 9,
     "metadata": {},
     "output_type": "execute_result"
    }
   ],
   "source": [
    "def getSum(myList):\n",
    "  sum = 0\n",
    "  for row in myList:\n",
    "      for item in row:\n",
    "          sum += item\n",
    "  return sum\n",
    "getSum([[1,2,5,],[3,4,7]])"
   ]
  },
  {
   "cell_type": "code",
   "execution_count": 10,
   "id": "806917d6-13bf-4044-a960-9e88fdfb76bc",
   "metadata": {},
   "outputs": [
    {
     "data": {
      "text/plain": [
       "10.0"
      ]
     },
     "execution_count": 10,
     "metadata": {},
     "output_type": "execute_result"
    }
   ],
   "source": [
    "def getSum(myList):\n",
    "  sum = 1000\n",
    "  for row in myList:\n",
    "      for item in row:\n",
    "          sum /= item\n",
    "  return sum\n",
    "getSum([[10,2],[5,1]])"
   ]
  },
  {
   "cell_type": "code",
   "execution_count": 11,
   "id": "c69815b0-9246-48b2-937b-fdcc6d743791",
   "metadata": {},
   "outputs": [
    {
     "data": {
      "text/plain": [
       "55"
      ]
     },
     "execution_count": 11,
     "metadata": {},
     "output_type": "execute_result"
    }
   ],
   "source": [
    "def getSum(myList):\n",
    "  sum = 100\n",
    "  for row in myList:\n",
    "      for item in row:\n",
    "          sum -= item\n",
    "  return sum\n",
    "getSum([[10,5],[5,25]])"
   ]
  },
  {
   "cell_type": "code",
   "execution_count": 13,
   "id": "acb54ea1-4be5-4718-a5de-6b367957cb4a",
   "metadata": {},
   "outputs": [
    {
     "data": {
      "text/plain": [
       "True"
      ]
     },
     "execution_count": 13,
     "metadata": {},
     "output_type": "execute_result"
    }
   ],
   "source": [
    "def searchBinary(myList,item):\n",
    "  first = 0\n",
    "  last = len(myList)-1\n",
    "  foundFlag = False\n",
    "  while( first<=last and not foundFlag):\n",
    "    mid = (first + last)//2\n",
    "    if myList[mid] == item :\n",
    "        foundFlag = True\n",
    "    else:\n",
    "        if item < myList[mid]:\n",
    "            last = mid - 1\n",
    "        else:\n",
    "            first = mid + 1\n",
    "  return foundFlag\n",
    "\n",
    "searchBinary([8,9,10,100,1000,2000,3000],10)"
   ]
  },
  {
   "cell_type": "code",
   "execution_count": 14,
   "id": "d4165c10-a2c1-4570-8aea-47e2635081fc",
   "metadata": {},
   "outputs": [
    {
     "data": {
      "text/plain": [
       "False"
      ]
     },
     "execution_count": 14,
     "metadata": {},
     "output_type": "execute_result"
    }
   ],
   "source": [
    "searchBinary([8,9,10,100,1000,2000,3000],4)\n"
   ]
  },
  {
   "cell_type": "code",
   "execution_count": null,
   "id": "fbd83827-8a7a-44ad-ade7-6973cb076f86",
   "metadata": {},
   "outputs": [],
   "source": []
  },
  {
   "cell_type": "code",
   "execution_count": null,
   "id": "42ccc30a-f9d6-4af7-b804-a65329c16e4a",
   "metadata": {},
   "outputs": [],
   "source": []
  }
 ],
 "metadata": {
  "kernelspec": {
   "display_name": "Python 3",
   "language": "python",
   "name": "python3"
  },
  "language_info": {
   "codemirror_mode": {
    "name": "ipython",
    "version": 3
   },
   "file_extension": ".py",
   "mimetype": "text/x-python",
   "name": "python",
   "nbconvert_exporter": "python",
   "pygments_lexer": "ipython3",
   "version": "3.8.8"
  }
 },
 "nbformat": 4,
 "nbformat_minor": 5
}
