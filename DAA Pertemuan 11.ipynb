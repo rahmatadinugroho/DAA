{
 "cells": [
  {
   "cell_type": "code",
   "execution_count": 1,
   "id": "ce8f6bdd-6c66-4739-91e9-b4340c041b78",
   "metadata": {},
   "outputs": [],
   "source": [
    "#a-----b\n",
    "#/     /\n",
    "#/     /\n",
    "#c-----d-----e"
   ]
  },
  {
   "cell_type": "code",
   "execution_count": 2,
   "id": "5d69ebab-87ff-4519-944f-e7b80637556b",
   "metadata": {},
   "outputs": [
    {
     "name": "stdout",
     "output_type": "stream",
     "text": [
      "{'a': ['b', 'c'], 'b': ['a', 'd'], 'c': ['a', 'd'], 'd': ['e'], 'e': ['d']}\n"
     ]
    }
   ],
   "source": [
    "#creat the dictionary with graph elemnts\n",
    "graph = { \"a\" : [\"b\",\"c\"],\n",
    "          \"b\" : [\"a\",\"d\"],\n",
    "          \"c\" : [\"a\",\"d\"],\n",
    "          \"d\" : [\"e\"],\n",
    "          \"e\" : [\"d\"]\n",
    "        }\n",
    "\n",
    "# Print the graph\n",
    "print (graph)"
   ]
  },
  {
   "cell_type": "code",
   "execution_count": 17,
   "id": "c6a0c380-285a-42f1-b55c-87b25c3d8793",
   "metadata": {},
   "outputs": [
    {
     "name": "stdout",
     "output_type": "stream",
     "text": [
      "{'t': ['u', 'w'], 'u': ['v', 't'], 'v': ['u', 'x'], 'w': ['x', 'z', 't'], 'x': ['w', 's', 'v'], 'z': ['w'], 's': ['x']}\n"
     ]
    }
   ],
   "source": [
    "# Create the dictionary with graph elements\n",
    "graph = { \"t\" : [\"u\",\"w\"],\n",
    "          \"u\" : [\"v\",\"t\"],\n",
    "          \"v\" : [\"u\",\"x\"],\n",
    "          \"w\" : [\"x\",\"z\",\"t\"],\n",
    "          \"x\" : [\"w\",\"s\",\"v\"],\n",
    "          \"z\" : [\"w\"],\n",
    "          \"s\" : [\"x\"],\n",
    "         }\n",
    "\n",
    "# Print the graph\n",
    "print(graph)"
   ]
  },
  {
   "cell_type": "code",
   "execution_count": 18,
   "id": "8dd665d7-c103-4be9-acba-bec523f63ecf",
   "metadata": {},
   "outputs": [
    {
     "name": "stdout",
     "output_type": "stream",
     "text": [
      "{'R': ['O', 'L'], 'O': ['R', 'P', 'M'], 'M': ['O', 'N'], 'L': ['R', 'P'], 'P': ['L', 'O', 'N'], 'N': ['M', 'P']}\n",
      "R, O, M, L, P, N\n"
     ]
    }
   ],
   "source": [
    "# Create the dictionary with graph elements\n",
    "graph3 = { \"R\" : [\"O\", \"L\"],\n",
    "          \"O\" : [\"R\", \"P\", \"M\"],\n",
    "          \"M\" : [\"O\", \"N\"],\n",
    "          \"L\" : [\"R\", \"P\"],\n",
    "          \"P\" : [\"L\", \"O\", \"N\"],\n",
    "          \"N\" : [\"M\", \"P\"]\n",
    "         }\n",
    "\n",
    "print(graph3)\n",
    "print (', '.join(graph3))"
   ]
  },
  {
   "cell_type": "code",
   "execution_count": 19,
   "id": "edc00ffe-e92a-4682-8936-c20a6708307d",
   "metadata": {},
   "outputs": [
    {
     "name": "stdout",
     "output_type": "stream",
     "text": [
      "['a', 'b', 'c', 'd', 'e']\n"
     ]
    }
   ],
   "source": [
    "# Menampilkan Simpul Pada Graph\n",
    "class graph:\n",
    "    def __init__(self,gdict=None):\n",
    "        if gdict is None:\n",
    "            gdict = []\n",
    "        self.gdict = gdict \n",
    "\n",
    "# Get the keys of the dictionary\n",
    "    def getVertices(self):\n",
    "        return list(self.gdict.keys())\n",
    "\n",
    "# Create the dictionary with graph elemnts\n",
    "graph_elements = { \"a\" : [\"b\",\"c\"],\n",
    "                  \"b\" : [\"a\",\"d\"],\n",
    "                  \"c\" : [\"a\",\"d\"],\n",
    "                  \"d\" : [\"e\"],\n",
    "                  \"e\" : [\"d\"]\n",
    "                }\n",
    "g = graph(graph_elements)\n",
    "print(g.getVertices())"
   ]
  },
  {
   "cell_type": "code",
   "execution_count": 20,
   "id": "a300fb84-a8b2-434a-b9ca-9395fcb9a9fd",
   "metadata": {},
   "outputs": [
    {
     "name": "stdout",
     "output_type": "stream",
     "text": [
      "['T', 'U', 'V', 'W', 'X', 'Z', 'S']\n"
     ]
    }
   ],
   "source": [
    "# Latihan\n",
    "class graph:\n",
    "    def __init__(self, gdict=None):\n",
    "        if gdict is None:\n",
    "          gdict = []\n",
    "        self.gdict = gdict\n",
    "\n",
    "# Get the keys of the dictionary\n",
    "    def getVertices (self):\n",
    "        return list (self.gdict.keys())\n",
    "# Create the dictionary with graph elements \n",
    "graph_elements ={ \"T\" : [\"V\",\"W\"],\n",
    "                  \"U\" : [\"V\",\"T\"],\n",
    "                  \"V\" : [\"T\",\"X\"],\n",
    "                  \"W\" : [\"Z\",\"X\",\"T\"],\n",
    "                  \"X\" : [\"S\",\"W\",\"V\"],\n",
    "                  \"Z\" :[\"W\"],\n",
    "                  \"S\" :[\"X\"]\n",
    "         }\n",
    "\n",
    "g = graph(graph_elements)\n",
    "\n",
    "print(g.getVertices())"
   ]
  },
  {
   "cell_type": "code",
   "execution_count": 21,
   "id": "a1bbbb72-79d8-4e27-b9b8-1bc4e2a28c96",
   "metadata": {},
   "outputs": [
    {
     "name": "stdout",
     "output_type": "stream",
     "text": [
      "['r', 'o', 'm', 'l', 'p', 'n']\n"
     ]
    }
   ],
   "source": [
    "# Latihan\n",
    "class graph:\n",
    "    def __init__(self, gdict=None):\n",
    "        if gdict is None:\n",
    "          gdict = []\n",
    "        self.gdict = gdict\n",
    "\n",
    "# Get the keys of the dictionary\n",
    "    def getVertices (self):\n",
    "        return list (self.gdict.keys())\n",
    "# Create the dictionary with graph elements \n",
    "graph_elements ={ \"r\" : [\"o\",\"l\"],\n",
    "          \"o\" : [\"r\",\"p\",\"m\"],\n",
    "          \"m\" : [\"o\",\"n\"],\n",
    "          \"l\" : [\"r\",\"p\"],\n",
    "          \"p\" : [\"l\",\"o\",\"n\"],\n",
    "          \"n\" : [\"p\",\"m\"]\n",
    "         }\n",
    "\n",
    "g = graph(graph_elements)\n",
    "\n",
    "print(g.getVertices())"
   ]
  },
  {
   "cell_type": "code",
   "execution_count": 11,
   "id": "c9dd80c9-4f53-4759-adf4-703071870c95",
   "metadata": {},
   "outputs": [
    {
     "name": "stdout",
     "output_type": "stream",
     "text": [
      "[{'a', 'b'}, {'c', 'a'}, {'d', 'b'}, {'c', 'd'}, {'e', 'd'}]\n"
     ]
    }
   ],
   "source": [
    "#Menampilkan Sudut Pada Graph\n",
    "class graph:\n",
    "    def __init__(self,gdict=None):\n",
    "        if gdict is None:\n",
    "            gdict = {}\n",
    "        self.gdict = gdict \n",
    "    \n",
    "    def edges(self):\n",
    "        return self.findedges()\n",
    "\n",
    "# Find the distinct list of edges\n",
    "    def findedges(self):\n",
    "        edgename = []\n",
    "        for vrtx in self.gdict:\n",
    "            for nxtvrtx in self.gdict[vrtx]:\n",
    "                if {nxtvrtx, vrtx} not in edgename:\n",
    "                    edgename.append({vrtx, nxtvrtx})\n",
    "        return edgename\n",
    "\n",
    "# Create the dictionary with graph elements\n",
    "grap_elements = { \"a\" : [\"b\",\"c\"],\n",
    "                  \"b\" : [\"a\",\"d\"],\n",
    "                  \"c\" : [\"a\",\"d\"],\n",
    "                  \"d\" : [\"e\"],\n",
    "                  \"e\" : [\"d\"]\n",
    "                 }\n",
    "g = graph(graph_elements)\n",
    "print(g.edges())"
   ]
  },
  {
   "cell_type": "code",
   "execution_count": 22,
   "id": "8b7b91bd-d8c6-49e8-9eec-92657c18b16b",
   "metadata": {},
   "outputs": [
    {
     "name": "stdout",
     "output_type": "stream",
     "text": [
      "[{'X', 'S'}, {'V', 'T'}, {'W', 'T'}, {'U', 'V'}, {'U', 'T'}, {'X', 'V'}, {'Z', 'W'}, {'X', 'W'}]\n"
     ]
    }
   ],
   "source": [
    "# Latihan #\n",
    "class graph:\n",
    "    def __init__(self, gdict=None):\n",
    "        if gdict is None:\n",
    "            gdict = {}\n",
    "        self.gdict = gdict\n",
    "\n",
    "    def edges (self): \n",
    "        return self.findedges()\n",
    "\n",
    "# Find the distinct List of edges\n",
    "    def findedges(self):\n",
    "        edgename = [] \n",
    "        for vrtx in self.gdict:\n",
    "            for nxtvrtx in self.gdict[vrtx]:\n",
    "                if {nxtvrtx, vrtx} not in edgename:\n",
    "                    edgename.append({vrtx, nxtvrtx})\n",
    "        return edgename\n",
    "\n",
    "# Create the dictionary with graph elements\n",
    "graph_elements= { \"S\" :[\"X\"],\n",
    "                  \"T\" : [\"V\",\"W\"],\n",
    "                  \"U\" : [\"V\",\"T\"],\n",
    "                  \"V\" : [\"T\",\"X\"],\n",
    "                  \"W\" : [\"Z\",\"X\",\"T\"],\n",
    "                  \"X\" : [\"S\",\"W\",\"V\"],\n",
    "                  \"Z\" :[\"W\"]\n",
    "                }\n",
    "\n",
    "g = graph(graph_elements)\n",
    "\n",
    "print(g.edges())"
   ]
  },
  {
   "cell_type": "code",
   "execution_count": 14,
   "id": "b63c41bb-ff32-4d50-aadf-4e93577f01b6",
   "metadata": {},
   "outputs": [
    {
     "name": "stdout",
     "output_type": "stream",
     "text": [
      "['a', 'b', 'c', 'd', 'e', 'f']\n"
     ]
    }
   ],
   "source": [
    "# Menambah Vertex / Simpul\n",
    "class graph:\n",
    "    def __init__(self,gdict=None):\n",
    "        if gdict is None:\n",
    "            gdict = {}\n",
    "        self.gdict = gdict\n",
    "\n",
    "# Get the keys of the dictionary \n",
    "    def getVertices(self):\n",
    "        return list(self.gdict.keys())\n",
    "    \n",
    "# Add the vertex as a key\n",
    "    def addVertex(self, vrtx):\n",
    "        if vrtx not in self.gdict:\n",
    "            self.gdict[vrtx] = []\n",
    "\n",
    "# Create the dictionary with graph elements\n",
    "grap_elements = { \"a\" : [\"b\",\"c\"],\n",
    "                  \"b\" : [\"a\",\"d\"],\n",
    "                  \"c\" : [\"a\",\"d\"],\n",
    "                  \"d\" : [\"e\"],\n",
    "                  \"e\" : [\"d\"]\n",
    "                 }\n",
    "\n",
    "g = graph(graph_elements)\n",
    "g.addVertex(\"f\")\n",
    "print(g.getVertices())"
   ]
  },
  {
   "cell_type": "code",
   "execution_count": 23,
   "id": "5828ced7-312b-4974-bb0d-22544cee8eaf",
   "metadata": {},
   "outputs": [
    {
     "name": "stdout",
     "output_type": "stream",
     "text": [
      "['r', 'o', 'm', 'l', 'p', 'n', 'x']\n"
     ]
    }
   ],
   "source": [
    "#Latihan\n",
    "class graph:\n",
    "  \n",
    "    def __init__ (self,gdict=None):\n",
    "        if gdict is None:\n",
    "            gdict = {} \n",
    "        self.gdict = gdict\n",
    "\n",
    "    def getVertices (self):\n",
    "        return list (self.gdict.keys())\n",
    "\n",
    "# Add the vertex as a key\n",
    "    def addVertex (self, vrtx):\n",
    "        if vrtx not in self.gdict:\n",
    "            self.gdict[vrtx] = [] \n",
    "# Create the dictionary with grapeleape Lements\n",
    "graph_elements = { \"r\" : [\"o\",\"l\"],\n",
    "          \"o\" : [\"r\",\"p\",\"m\"],\n",
    "          \"m\" : [\"o\",\"n\"],\n",
    "          \"l\" : [\"r\",\"p\"],\n",
    "          \"p\" : [\"l\",\"o\",\"n\"],\n",
    "          \"n\" : [\"p\",\"m\"]\n",
    "         }\n",
    "\n",
    "g = graph (graph_elements)\n",
    "g.addVertex (\"x\")\n",
    "print (g.getVertices())"
   ]
  },
  {
   "cell_type": "code",
   "execution_count": 16,
   "id": "058eb9dd-e848-475f-89aa-df99af0e9d4c",
   "metadata": {},
   "outputs": [
    {
     "name": "stdout",
     "output_type": "stream",
     "text": [
      "[{'a', 'b'}, {'c', 'a'}, {'d', 'b'}, {'c', 'd'}, {'e', 'd'}, {'e', 'a'}]\n"
     ]
    }
   ],
   "source": [
    "class graph:\n",
    "    def __init__(self,gdict=None):\n",
    "        if gdict is None:\n",
    "            gdict = {}\n",
    "        self.gdict = gdict\n",
    "        \n",
    "    def edges(self):\n",
    "        return self.findedges()\n",
    "\n",
    "# Add the new edge\n",
    "    \n",
    "    def AddEdge(self, edge):\n",
    "        edge = set(edge)\n",
    "        (vrtx1, vrtx2) = tuple(edge)\n",
    "        if vrtx1 in self.gdict:\n",
    "            self.gdict[vrtx1].append(vrtx2)\n",
    "        else:\n",
    "            self.gdict[vrtx1] = [vrtx2]\n",
    "            \n",
    "# List the edge names\n",
    "    def findedges(self):\n",
    "        edgename = []\n",
    "        for vrtx in self.gdict:\n",
    "            for nxtvrtx in self.gdict[vrtx]:\n",
    "                if {nxtvrtx, vrtx} not in edgename:\n",
    "                    edgename.append({vrtx, nxtvrtx})\n",
    "        return edgename\n",
    "\n",
    "grap_elements = { \"a\" : [\"b\",\"c\"],\n",
    "                  \"b\" : [\"a\",\"d\"],\n",
    "                  \"c\" : [\"a\",\"d\"],\n",
    "                  \"d\" : [\"e\"],\n",
    "                  \"e\" : [\"d\"]\n",
    "                 }\n",
    "\n",
    "g = graph(graph_elements)\n",
    "g.AddEdge({'a','e'})\n",
    "g.AddEdge({'a','c'})\n",
    "print(g.edges())"
   ]
  },
  {
   "cell_type": "code",
   "execution_count": null,
   "id": "11678adc-d9f0-44b2-84cd-753929661bff",
   "metadata": {},
   "outputs": [],
   "source": []
  }
 ],
 "metadata": {
  "kernelspec": {
   "display_name": "Python 3",
   "language": "python",
   "name": "python3"
  },
  "language_info": {
   "codemirror_mode": {
    "name": "ipython",
    "version": 3
   },
   "file_extension": ".py",
   "mimetype": "text/x-python",
   "name": "python",
   "nbconvert_exporter": "python",
   "pygments_lexer": "ipython3",
   "version": "3.8.8"
  }
 },
 "nbformat": 4,
 "nbformat_minor": 5
}
