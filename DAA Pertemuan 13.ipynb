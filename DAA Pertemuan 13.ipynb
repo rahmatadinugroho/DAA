{
 "cells": [
  {
   "cell_type": "code",
   "execution_count": 1,
   "id": "dd3baccc-035a-446d-adc2-94d02dd1b8da",
   "metadata": {},
   "outputs": [],
   "source": [
    "def bfs(graph, start):\n",
    "    visited = []\n",
    "    queue = [start]\n",
    "    \n",
    "    while queue:\n",
    "        node = queue.pop(0)\n",
    "        if node not in visited:\n",
    "            visited.append(node)\n",
    "            neighbours = graph[node]\n",
    "            for neighbours in neighbours:\n",
    "                queue.append(neighbours)\n",
    "    return visited"
   ]
  },
  {
   "cell_type": "code",
   "execution_count": 2,
   "id": "27b1872b-ee33-4df2-8407-562584643cd1",
   "metadata": {},
   "outputs": [],
   "source": [
    "graph = {'Amin' : {'Wasim', 'Nick', 'Mike'},\n",
    "        'Wasim' : {'Imran', 'Amin'},\n",
    "        'Imran' : {'Wasim', 'Faras'},\n",
    "        'Faras' : {'Imran'},\n",
    "        'Mike' :  {'Amin'},\n",
    "        'Nick' : {'Amin'}}"
   ]
  },
  {
   "cell_type": "code",
   "execution_count": 3,
   "id": "9a5061ca-c6cf-42e8-98ad-9f51e0ed498c",
   "metadata": {},
   "outputs": [
    {
     "data": {
      "text/plain": [
       "['Amin', 'Nick', 'Mike', 'Wasim', 'Imran', 'Faras']"
      ]
     },
     "execution_count": 3,
     "metadata": {},
     "output_type": "execute_result"
    }
   ],
   "source": [
    "bfs(graph, 'Amin')"
   ]
  },
  {
   "cell_type": "code",
   "execution_count": 4,
   "id": "04bbad59-e457-4c42-a131-340286d59208",
   "metadata": {},
   "outputs": [
    {
     "data": {
      "text/plain": [
       "['Amin', 'Nick', 'Mike', 'Wasim', 'Imran', 'Faras']"
      ]
     },
     "execution_count": 4,
     "metadata": {},
     "output_type": "execute_result"
    }
   ],
   "source": [
    "# O amin ---------------\n",
    "# |          |         |\n",
    "# O wasim    O nick    O mike\n",
    "# |\n",
    "# O imran\n",
    "# |\n",
    "# O faras\n",
    "\n",
    "bfs(graph, 'Amin')"
   ]
  },
  {
   "cell_type": "code",
   "execution_count": 5,
   "id": "9e7fecb8-8ca8-4a07-96fc-cddfabc741d9",
   "metadata": {},
   "outputs": [
    {
     "data": {
      "text/plain": [
       "['Wasim', 'Imran', 'Amin', 'Faras', 'Nick', 'Mike']"
      ]
     },
     "execution_count": 5,
     "metadata": {},
     "output_type": "execute_result"
    }
   ],
   "source": [
    "# O wasim ----\n",
    "# |          |\n",
    "# O imran    O amin----\n",
    "# |          |        |\n",
    "# O faras    O nick   O mike\n",
    "\n",
    "bfs(graph, 'Wasim')"
   ]
  },
  {
   "cell_type": "code",
   "execution_count": 6,
   "id": "e7f3f652-d9d1-4e83-a0ee-aed8cde48371",
   "metadata": {},
   "outputs": [
    {
     "data": {
      "text/plain": [
       "['Faras', 'Imran', 'Wasim', 'Amin', 'Nick', 'Mike']"
      ]
     },
     "execution_count": 6,
     "metadata": {},
     "output_type": "execute_result"
    }
   ],
   "source": [
    "# O faras\n",
    "# |\n",
    "# O imran\n",
    "# |\n",
    "# O wasim    O nick   O mike\n",
    "# |          |        |\n",
    "# O amin --------------\n",
    "\n",
    "bfs(graph, 'Faras')"
   ]
  },
  {
   "cell_type": "code",
   "execution_count": 7,
   "id": "ee6e59ea-fd6c-4e39-919c-068b6dcd0716",
   "metadata": {},
   "outputs": [
    {
     "data": {
      "text/plain": [
       "['Rektor',\n",
       " 'Warek 1',\n",
       " 'Warek 2',\n",
       " 'Kaprodi 2',\n",
       " 'Kaprodi 3',\n",
       " 'Kaprodi 1',\n",
       " 'Dosen E',\n",
       " 'Dosen D',\n",
       " 'Dosen G',\n",
       " 'Dosen F',\n",
       " 'Dosen A',\n",
       " 'Dosen C',\n",
       " 'Dosen B']"
      ]
     },
     "execution_count": 7,
     "metadata": {},
     "output_type": "execute_result"
    }
   ],
   "source": [
    "# LATIHAN \n",
    "\n",
    "def bfs(graph, start):\n",
    "    visited = []\n",
    "    queue = [start]\n",
    "    \n",
    "    while queue:\n",
    "        node = queue.pop(0)\n",
    "        if node not in visited:\n",
    "            visited.append(node)\n",
    "            neighbours = graph[node]\n",
    "            for neighbours in neighbours:\n",
    "                queue.append(neighbours)\n",
    "    return visited\n",
    "\n",
    "graphLatihan = {'Rektor' : {'Warek 1', 'Warek 2'},\n",
    "        'Warek 1' : {'Rektor'},\n",
    "        'Warek 2' : {'Rektor', 'Kaprodi 1', 'Kaprodi 2', 'Kaprodi 3'},\n",
    "        \n",
    "        'Kaprodi 1' : {'Warek 2', 'Dosen A', 'Dosen B', 'Dosen C'},\n",
    "        'Kaprodi 2' : {'Warek 2', 'Dosen D', 'Dosen E',},\n",
    "        'Kaprodi 3' : {'Warek 2', 'Dosen F', 'Dosen G'},\n",
    "        \n",
    "        'Dosen A' : {'Kaprodi 1'},\n",
    "        'Dosen B' : {'Kaprodi 1'},\n",
    "        'Dosen C' : {'Kaprodi 1'},\n",
    "        \n",
    "        'Dosen D' : {'Kaprodi 2'},\n",
    "        'Dosen E' : {'Kaprodi 2'},\n",
    "                \n",
    "        'Dosen F' : {'Kaprodi 3'},\n",
    "        'Dosen G' : {'Kaprodi 2'}}\n",
    "\n",
    "bfs(graphLatihan, 'Rektor')"
   ]
  },
  {
   "cell_type": "code",
   "execution_count": 8,
   "id": "3a65a662-2629-4295-b62d-736f70a4c3be",
   "metadata": {},
   "outputs": [],
   "source": [
    "# IMPLEMENTASI ALGORITMA DEPTH-FIRST SEARCH\n",
    "def dfs(graph, start, visited=None):\n",
    "    if visited is None:\n",
    "        visited = set()\n",
    "    visited.add(start)\n",
    "    print(start)\n",
    "    for next in graph[start] - visited:\n",
    "        dfs(graph, next, visited)\n",
    "    return visited"
   ]
  },
  {
   "cell_type": "code",
   "execution_count": 9,
   "id": "5587749b-d63a-415a-a0e8-2a11d6ceca68",
   "metadata": {},
   "outputs": [],
   "source": [
    "graph = {'Amin' : {'Wasim', 'Nick', 'Mike'},\n",
    "        'Wasim' : {'Imran', 'Amin'},\n",
    "        'Imran' : {'Wasim', 'Faras'},\n",
    "        'Faras' : {'Imran'},\n",
    "        'Mike' :  {'Amin'},\n",
    "        'Nick' : {'Amin'}}"
   ]
  },
  {
   "cell_type": "code",
   "execution_count": 10,
   "id": "e8c7138b-4e4a-4a68-a1ec-ac87d9eb6a42",
   "metadata": {},
   "outputs": [
    {
     "name": "stdout",
     "output_type": "stream",
     "text": [
      "Amin\n",
      "Mike\n",
      "Wasim\n",
      "Imran\n",
      "Faras\n",
      "Nick\n"
     ]
    },
    {
     "data": {
      "text/plain": [
       "{'Amin', 'Faras', 'Imran', 'Mike', 'Nick', 'Wasim'}"
      ]
     },
     "execution_count": 10,
     "metadata": {},
     "output_type": "execute_result"
    }
   ],
   "source": [
    "# O amin -------------\n",
    "# |          |        |\n",
    "# O wasim    O nick   O mike\n",
    "# |\n",
    "# O imran\n",
    "# |\n",
    "# O faras\n",
    "#\n",
    "# turun dari amin ke faras, geser ke nick & mike\n",
    "\n",
    "dfs(graph, 'Amin')"
   ]
  },
  {
   "cell_type": "code",
   "execution_count": 11,
   "id": "887b1612-c0bb-4f9b-aee1-b1d38ea307e5",
   "metadata": {},
   "outputs": [
    {
     "name": "stdout",
     "output_type": "stream",
     "text": [
      "Wasim\n",
      "Imran\n",
      "Faras\n",
      "Amin\n",
      "Mike\n",
      "Nick\n"
     ]
    },
    {
     "data": {
      "text/plain": [
       "{'Amin', 'Faras', 'Imran', 'Mike', 'Nick', 'Wasim'}"
      ]
     },
     "execution_count": 11,
     "metadata": {},
     "output_type": "execute_result"
    }
   ],
   "source": [
    "# O amin -------------\n",
    "# |          |        |\n",
    "# O wasim    O nick   O mike\n",
    "# |\n",
    "# O imran\n",
    "# |\n",
    "# O faras\n",
    "#\n",
    "# turun dari amin ke faras, geser ke nick & mike\n",
    "\n",
    "dfs(graph, 'Wasim')"
   ]
  },
  {
   "cell_type": "code",
   "execution_count": 12,
   "id": "3a764fbb-a1ab-4773-8edb-219e4cbb1950",
   "metadata": {},
   "outputs": [
    {
     "name": "stdout",
     "output_type": "stream",
     "text": [
      "Faras\n",
      "Imran\n",
      "Wasim\n",
      "Amin\n",
      "Mike\n",
      "Nick\n"
     ]
    },
    {
     "data": {
      "text/plain": [
       "{'Amin', 'Faras', 'Imran', 'Mike', 'Nick', 'Wasim'}"
      ]
     },
     "execution_count": 12,
     "metadata": {},
     "output_type": "execute_result"
    }
   ],
   "source": [
    "# O amin -------------\n",
    "# |          |        |\n",
    "# O wasim    O nick   O mike\n",
    "# |\n",
    "# O imran\n",
    "# |\n",
    "# O faras\n",
    "#\n",
    "# turun dari amin ke faras, geser ke nick & mike\n",
    "\n",
    "dfs(graph, 'Faras')"
   ]
  },
  {
   "cell_type": "code",
   "execution_count": 13,
   "id": "8de1eeae-530e-406f-bff5-ed59aa4d85ab",
   "metadata": {},
   "outputs": [
    {
     "name": "stdout",
     "output_type": "stream",
     "text": [
      "Nick\n",
      "Amin\n",
      "Mike\n",
      "Wasim\n",
      "Imran\n",
      "Faras\n"
     ]
    },
    {
     "data": {
      "text/plain": [
       "{'Amin', 'Faras', 'Imran', 'Mike', 'Nick', 'Wasim'}"
      ]
     },
     "execution_count": 13,
     "metadata": {},
     "output_type": "execute_result"
    }
   ],
   "source": [
    "# O amin -------------\n",
    "# |          |        |\n",
    "# O wasim    O nick   O mike\n",
    "# |\n",
    "# O imran\n",
    "# |\n",
    "# O faras\n",
    "#\n",
    "# turun dari amin ke faras, geser ke nick & mike\n",
    "\n",
    "dfs(graph, 'Nick')"
   ]
  },
  {
   "cell_type": "code",
   "execution_count": 14,
   "id": "3c5729e8-08fb-48eb-a86c-561e32b22bc9",
   "metadata": {},
   "outputs": [
    {
     "name": "stdout",
     "output_type": "stream",
     "text": [
      "Rektor\n",
      "Warek 1\n",
      "Warek 2\n",
      "Kaprodi 2\n",
      "Dosen E\n",
      "Dosen D\n",
      "Kaprodi 3\n",
      "Dosen G\n",
      "Dosen F\n",
      "Kaprodi 1\n",
      "Dosen A\n",
      "Dosen C\n",
      "Dosen B\n"
     ]
    },
    {
     "data": {
      "text/plain": [
       "{'Dosen A',\n",
       " 'Dosen B',\n",
       " 'Dosen C',\n",
       " 'Dosen D',\n",
       " 'Dosen E',\n",
       " 'Dosen F',\n",
       " 'Dosen G',\n",
       " 'Kaprodi 1',\n",
       " 'Kaprodi 2',\n",
       " 'Kaprodi 3',\n",
       " 'Rektor',\n",
       " 'Warek 1',\n",
       " 'Warek 2'}"
      ]
     },
     "execution_count": 14,
     "metadata": {},
     "output_type": "execute_result"
    }
   ],
   "source": [
    "# LATIHAN DFS\n",
    "# IMPLEMENTASI ALGORITMA DEPTH-FIRST SEARCH\n",
    "def dfs(graph, start, visited=None):\n",
    "    if visited is None:\n",
    "        visited = set()\n",
    "    visited.add(start)\n",
    "    print(start)\n",
    "    for next in graph[start] - visited:\n",
    "        dfs(graph, next, visited)\n",
    "    return visited\n",
    "\n",
    "graphLatihan = {'Rektor' : {'Warek 1', 'Warek 2'},\n",
    "        'Warek 1' : {'Rektor'},\n",
    "        'Warek 2' : {'Rektor', 'Kaprodi 1', 'Kaprodi 2', 'Kaprodi 3'},\n",
    "        \n",
    "        'Kaprodi 1' : {'Warek 2', 'Dosen A', 'Dosen B', 'Dosen C'},\n",
    "        'Kaprodi 2' : {'Warek 2', 'Dosen D', 'Dosen E',},\n",
    "        'Kaprodi 3' : {'Warek 2', 'Dosen F', 'Dosen G'},\n",
    "        \n",
    "        'Dosen A' : {'Kaprodi 1'},\n",
    "        'Dosen B' : {'Kaprodi 1'},\n",
    "        'Dosen C' : {'Kaprodi 1'},\n",
    "        \n",
    "        'Dosen D' : {'Kaprodi 2'},\n",
    "        'Dosen E' : {'Kaprodi 2'},\n",
    "                \n",
    "        'Dosen F' : {'Kaprodi 3'},\n",
    "        'Dosen G' : {'Kaprodi 2'}}\n",
    "\n",
    "dfs(graphLatihan, 'Rektor')"
   ]
  },
  {
   "cell_type": "code",
   "execution_count": null,
   "id": "384fa8e4-3a08-43a9-9eda-21b5c9ef8702",
   "metadata": {},
   "outputs": [],
   "source": []
  }
 ],
 "metadata": {
  "kernelspec": {
   "display_name": "Python 3",
   "language": "python",
   "name": "python3"
  },
  "language_info": {
   "codemirror_mode": {
    "name": "ipython",
    "version": 3
   },
   "file_extension": ".py",
   "mimetype": "text/x-python",
   "name": "python",
   "nbconvert_exporter": "python",
   "pygments_lexer": "ipython3",
   "version": "3.8.8"
  }
 },
 "nbformat": 4,
 "nbformat_minor": 5
}
