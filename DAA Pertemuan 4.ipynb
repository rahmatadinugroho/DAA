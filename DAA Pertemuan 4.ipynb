{
  "nbformat": 4,
  "nbformat_minor": 2,
  "metadata": {
    "colab": {
      "name": "Untitled16.ipynb",
      "provenance": []
    },
    "kernelspec": {
      "name": "python3",
      "display_name": "Python 3"
    },
    "language_info": {
      "name": "python"
    }
  },
  "cells": [
    {
      "cell_type": "code",
      "execution_count": 1,
      "source": [
        "# swap function\r\n",
        "var1 = 1\r\n",
        "var2 = 2\r\n",
        "var1,var2 = var2,var1\r\n",
        "\r\n",
        "print(var1,var2)"
      ],
      "outputs": [
        {
          "output_type": "stream",
          "name": "stdout",
          "text": [
            "2 1\n"
          ]
        }
      ],
      "metadata": {
        "colab": {
          "base_uri": "https://localhost:8080/"
        },
        "id": "73Sd7rXicnDw",
        "outputId": "62f678e1-f74b-4fc0-cb98-da485b662178"
      }
    },
    {
      "cell_type": "code",
      "execution_count": 2,
      "source": [
        "# latihan swap function\r\n",
        "var1 = 1\r\n",
        "var2 = 2\r\n",
        "var3 = 3\r\n",
        "var1,var2, var3 = var3,var2,var1\r\n",
        "\r\n",
        "print(var1,var2,var3)"
      ],
      "outputs": [
        {
          "output_type": "stream",
          "name": "stdout",
          "text": [
            "3 2 1\n"
          ]
        }
      ],
      "metadata": {
        "colab": {
          "base_uri": "https://localhost:8080/"
        },
        "id": "Km17wmA1hr2p",
        "outputId": "7789fe59-b954-4e77-a669-c0e083810ff0"
      }
    },
    {
      "cell_type": "code",
      "execution_count": 3,
      "source": [
        "# Bubble sort\r\n",
        "\r\n",
        "list =[25,21,22,24,23,27,26]"
      ],
      "outputs": [],
      "metadata": {
        "id": "tpQDocaXjCaa"
      }
    },
    {
      "cell_type": "code",
      "execution_count": 4,
      "source": [
        "lastElementIndex = len(list)-1\r\n",
        "print(0, list)\r\n",
        "for idx in range(lastElementIndex):\r\n",
        "    if list[idx]>list[idx+1]:\r\n",
        "        list[idx], list[idx+1]=list[idx+1], list[idx]\r\n",
        "        \r\n",
        "    print(idx+1,list)"
      ],
      "outputs": [
        {
          "output_type": "stream",
          "name": "stdout",
          "text": [
            "0 [25, 21, 22, 24, 23, 27, 26]\n",
            "1 [21, 25, 22, 24, 23, 27, 26]\n",
            "2 [21, 22, 25, 24, 23, 27, 26]\n",
            "3 [21, 22, 24, 25, 23, 27, 26]\n",
            "4 [21, 22, 24, 23, 25, 27, 26]\n",
            "5 [21, 22, 24, 23, 25, 27, 26]\n",
            "6 [21, 22, 24, 23, 25, 26, 27]\n"
          ]
        }
      ],
      "metadata": {
        "colab": {
          "base_uri": "https://localhost:8080/"
        },
        "id": "hbiikceTjnm2",
        "outputId": "b9452a2c-ae77-436e-a717-9cca93b0bbf8"
      }
    },
    {
      "cell_type": "code",
      "execution_count": 5,
      "source": [
        "def BubbleSort(list):\r\n",
        "    #exchange the element to arrange in order\r\n",
        "    lastElementIndex = len(list)-1\r\n",
        "    for passNo in range(lastElementIndex,0,-1):\r\n",
        "        for idx in range(passNo):\r\n",
        "            if list[idx]>list[idx+1]:\r\n",
        "                list[idx],list[idx+1]=list[idx+1],list[idx]\r\n",
        "    return list"
      ],
      "outputs": [],
      "metadata": {
        "id": "IBAuQuQiloRs"
      }
    },
    {
      "cell_type": "code",
      "execution_count": 6,
      "source": [
        "\r\n",
        "list =[25,21,22,24,23,27,26]"
      ],
      "outputs": [],
      "metadata": {
        "id": "fbqMuybUmbJ4"
      }
    },
    {
      "cell_type": "code",
      "execution_count": 7,
      "source": [
        "BubbleSort (list)"
      ],
      "outputs": [
        {
          "output_type": "execute_result",
          "data": {
            "text/plain": [
              "[21, 22, 23, 24, 25, 26, 27]"
            ]
          },
          "metadata": {},
          "execution_count": 7
        }
      ],
      "metadata": {
        "colab": {
          "base_uri": "https://localhost:8080/"
        },
        "id": "sOx5nj0cmfqo",
        "outputId": "b78f9de8-77c5-4e29-e2fd-e8a976dc3eb4"
      }
    },
    {
      "cell_type": "code",
      "execution_count": 8,
      "source": [
        "list"
      ],
      "outputs": [
        {
          "output_type": "execute_result",
          "data": {
            "text/plain": [
              "[21, 22, 23, 24, 25, 26, 27]"
            ]
          },
          "metadata": {},
          "execution_count": 8
        }
      ],
      "metadata": {
        "colab": {
          "base_uri": "https://localhost:8080/"
        },
        "id": "EFN8yxrcm2gg",
        "outputId": "39e4ae86-d7ff-47d3-8782-a03eb05d729a"
      }
    },
    {
      "cell_type": "code",
      "execution_count": 9,
      "source": [
        "# Latihan Bubble sort\r\n",
        "\r\n",
        "list= [100,20,60,70,40,30,10,5]"
      ],
      "outputs": [],
      "metadata": {
        "id": "6_94Fe1EpvQm"
      }
    },
    {
      "cell_type": "code",
      "execution_count": 10,
      "source": [
        "BubbleSort (list)"
      ],
      "outputs": [
        {
          "output_type": "execute_result",
          "data": {
            "text/plain": [
              "[5, 10, 20, 30, 40, 60, 70, 100]"
            ]
          },
          "metadata": {},
          "execution_count": 10
        }
      ],
      "metadata": {
        "colab": {
          "base_uri": "https://localhost:8080/"
        },
        "id": "LCbkbbJMqJ5u",
        "outputId": "8e7b78b4-676a-488c-9639-408c0b24ac72"
      }
    },
    {
      "cell_type": "code",
      "execution_count": 11,
      "source": [
        "list"
      ],
      "outputs": [
        {
          "output_type": "execute_result",
          "data": {
            "text/plain": [
              "[5, 10, 20, 30, 40, 60, 70, 100]"
            ]
          },
          "metadata": {},
          "execution_count": 11
        }
      ],
      "metadata": {
        "colab": {
          "base_uri": "https://localhost:8080/"
        },
        "id": "A4DUlJAJqS6t",
        "outputId": "2e9a49f6-bcc7-47b9-d83d-82f20a523c62"
      }
    },
    {
      "cell_type": "code",
      "execution_count": 12,
      "source": [
        "# Insertion Sort\r\n",
        "\r\n",
        "def InsertionSort(list):\r\n",
        "    for i in range(1, len(list)):\r\n",
        "        j = i - 1\r\n",
        "        next = list[i]\r\n",
        "#compare the current element with next one        \r\n",
        "        while (list[j] > next) and (j >= 0):\r\n",
        "            list[j+1] = list[j]\r\n",
        "            j = j - 1\r\n",
        "        list[j+1] = next\r\n",
        "    return list"
      ],
      "outputs": [],
      "metadata": {
        "id": "GKq0gvBJrozf"
      }
    },
    {
      "cell_type": "code",
      "execution_count": 15,
      "source": [
        "list = [35,31,32,34,33,37,36]"
      ],
      "outputs": [],
      "metadata": {
        "id": "MVOu4kb5r0WG"
      }
    },
    {
      "cell_type": "code",
      "execution_count": 17,
      "source": [
        "list"
      ],
      "outputs": [
        {
          "output_type": "execute_result",
          "data": {
            "text/plain": [
              "[31, 32, 33, 34, 35, 36, 37]"
            ]
          },
          "metadata": {},
          "execution_count": 17
        }
      ],
      "metadata": {
        "colab": {
          "base_uri": "https://localhost:8080/"
        },
        "id": "U3GAaTQpsoLv",
        "outputId": "4c54c9cd-78b8-4947-bcac-aecd306514af"
      }
    },
    {
      "cell_type": "code",
      "execution_count": 16,
      "source": [
        "InsertionSort (list)"
      ],
      "outputs": [
        {
          "output_type": "execute_result",
          "data": {
            "text/plain": [
              "[31, 32, 33, 34, 35, 36, 37]"
            ]
          },
          "metadata": {},
          "execution_count": 16
        }
      ],
      "metadata": {
        "colab": {
          "base_uri": "https://localhost:8080/"
        },
        "id": "S1GDCs0WsUT6",
        "outputId": "7384f8db-5cc1-403e-f503-f83e27bd77a7"
      }
    },
    {
      "cell_type": "code",
      "execution_count": 18,
      "source": [
        "# latihan Insertion Sort\r\n",
        "\r\n",
        "list = [89,12,57,16,25,11,75]"
      ],
      "outputs": [],
      "metadata": {
        "id": "ddd3WwEVu6_h"
      }
    },
    {
      "cell_type": "code",
      "execution_count": 19,
      "source": [
        "list"
      ],
      "outputs": [
        {
          "output_type": "execute_result",
          "data": {
            "text/plain": [
              "[89, 12, 57, 16, 25, 11, 75]"
            ]
          },
          "metadata": {},
          "execution_count": 19
        }
      ],
      "metadata": {
        "colab": {
          "base_uri": "https://localhost:8080/"
        },
        "id": "Ox9Ir3NWvDDw",
        "outputId": "89cc36ec-0769-4e99-e087-0b89a7988ff7"
      }
    },
    {
      "cell_type": "code",
      "execution_count": 20,
      "source": [
        "InsertionSort (list)"
      ],
      "outputs": [
        {
          "output_type": "execute_result",
          "data": {
            "text/plain": [
              "[11, 12, 16, 25, 57, 75, 89]"
            ]
          },
          "metadata": {},
          "execution_count": 20
        }
      ],
      "metadata": {
        "colab": {
          "base_uri": "https://localhost:8080/"
        },
        "id": "l5tkAGE8vIDR",
        "outputId": "051a0c3e-f55f-4afc-fff5-23c081f041d5"
      }
    },
    {
      "cell_type": "code",
      "execution_count": 21,
      "source": [
        "list"
      ],
      "outputs": [
        {
          "output_type": "execute_result",
          "data": {
            "text/plain": [
              "[11, 12, 16, 25, 57, 75, 89]"
            ]
          },
          "metadata": {},
          "execution_count": 21
        }
      ],
      "metadata": {
        "colab": {
          "base_uri": "https://localhost:8080/"
        },
        "id": "Tu3XWGXQvOFZ",
        "outputId": "18ccfecd-43d8-4504-fb5d-5f7c88d2d771"
      }
    },
    {
      "cell_type": "code",
      "execution_count": 22,
      "source": [
        "# Selection Sort\r\n",
        "\r\n",
        "def SelectionSort(list):\r\n",
        "    for fill_slot in range (len(list) - 1,0, -1):\r\n",
        "        max_index = 0\r\n",
        "        for location in range(1, fill_slot + 1):\r\n",
        "            if list[location] > list[max_index]:\r\n",
        "                max_index = location\r\n",
        "        list[fill_slot],list[max_index] = list[max_index],list[fill_slot]\r\n",
        "    return list"
      ],
      "outputs": [],
      "metadata": {
        "id": "7GFu6cu_wK_g"
      }
    },
    {
      "cell_type": "code",
      "execution_count": 23,
      "source": [
        "list = [70,15,25,19,34,44]\r\n",
        "SelectionSort(list)"
      ],
      "outputs": [
        {
          "output_type": "execute_result",
          "data": {
            "text/plain": [
              "[15, 19, 25, 34, 44, 70]"
            ]
          },
          "metadata": {},
          "execution_count": 23
        }
      ],
      "metadata": {
        "colab": {
          "base_uri": "https://localhost:8080/"
        },
        "id": "5kCyq-84xCke",
        "outputId": "679f0654-9241-46a1-d72b-ec3e0a9d804f"
      }
    },
    {
      "cell_type": "code",
      "execution_count": 24,
      "source": [
        "list"
      ],
      "outputs": [
        {
          "output_type": "execute_result",
          "data": {
            "text/plain": [
              "[15, 19, 25, 34, 44, 70]"
            ]
          },
          "metadata": {},
          "execution_count": 24
        }
      ],
      "metadata": {
        "colab": {
          "base_uri": "https://localhost:8080/"
        },
        "id": "2QbclHqTxIRI",
        "outputId": "b5e898ca-8370-481c-91b0-f9f901596d9b"
      }
    },
    {
      "cell_type": "code",
      "execution_count": 25,
      "source": [
        "# latihan selection sort\r\n",
        "\r\n",
        "list = [89,12,57,16,25]"
      ],
      "outputs": [],
      "metadata": {
        "id": "CcOHm1j-xQac"
      }
    },
    {
      "cell_type": "code",
      "execution_count": 26,
      "source": [
        "SelectionSort(list)"
      ],
      "outputs": [
        {
          "output_type": "execute_result",
          "data": {
            "text/plain": [
              "[12, 16, 25, 57, 89]"
            ]
          },
          "metadata": {},
          "execution_count": 26
        }
      ],
      "metadata": {
        "colab": {
          "base_uri": "https://localhost:8080/"
        },
        "id": "5LEtlFEo1DWx",
        "outputId": "520e9b27-bee8-4b11-f5b5-4153ad16c2c0"
      }
    },
    {
      "cell_type": "code",
      "execution_count": 27,
      "source": [
        "list"
      ],
      "outputs": [
        {
          "output_type": "execute_result",
          "data": {
            "text/plain": [
              "[12, 16, 25, 57, 89]"
            ]
          },
          "metadata": {},
          "execution_count": 27
        }
      ],
      "metadata": {
        "colab": {
          "base_uri": "https://localhost:8080/"
        },
        "id": "053MoEUN1GFK",
        "outputId": "de4f84a6-7748-4b52-f570-390bee1b9edb"
      }
    },
    {
      "cell_type": "code",
      "execution_count": 28,
      "source": [
        "# linear Search\r\n",
        "\r\n",
        "def LinearSearch(list, item):\r\n",
        "    index = 0\r\n",
        "    found = False\r\n",
        "    \r\n",
        "# Match the value with each data element    \r\n",
        "    while index < len(list) and found is False:\r\n",
        "        if list[index] == item:\r\n",
        "            found = True\r\n",
        "        else:\r\n",
        "            index = index + 1\r\n",
        "    return found"
      ],
      "outputs": [],
      "metadata": {
        "id": "MH2daCoUG5DQ"
      }
    },
    {
      "cell_type": "code",
      "execution_count": 29,
      "source": [
        "list = [12,33,11,99,22,55,90]\r\n",
        "print(LinearSearch(list, 12))\r\n",
        "print(LinearSearch(list, 91))"
      ],
      "outputs": [
        {
          "output_type": "stream",
          "name": "stdout",
          "text": [
            "True\n",
            "False\n"
          ]
        }
      ],
      "metadata": {
        "colab": {
          "base_uri": "https://localhost:8080/"
        },
        "id": "ubfmXxSlHBuc",
        "outputId": "a9de130f-5d30-4dd9-f7d4-5dee10dc8d79"
      }
    },
    {
      "cell_type": "code",
      "execution_count": 31,
      "source": [
        "list = [\"y\",\"u\",\"i\",\"w\",\"o\",\"a\",\"q\",\"u\",\"j\",\"p\"]"
      ],
      "outputs": [],
      "metadata": {
        "id": "othvj7LgKr54"
      }
    },
    {
      "cell_type": "code",
      "execution_count": 32,
      "source": [
        "print(LinearSearch(list, \"a\"))\r\n",
        "print(LinearSearch(list, \"b\"))"
      ],
      "outputs": [
        {
          "output_type": "stream",
          "name": "stdout",
          "text": [
            "True\n",
            "False\n"
          ]
        }
      ],
      "metadata": {
        "colab": {
          "base_uri": "https://localhost:8080/"
        },
        "id": "gMZQu8KqLHlU",
        "outputId": "366cfc75-eade-4a98-bb6f-491dfad11e2c"
      }
    },
    {
      "cell_type": "code",
      "execution_count": 60,
      "source": [
        "# Algoritma Binary Search\r\n",
        "\r\n",
        "def BinarySearch(list, item):\r\n",
        "    first = 0\r\n",
        "    last = len(list)-1\r\n",
        "    found = False\r\n",
        "    \r\n",
        "    while first <= last and not found:\r\n",
        "        midpoint = (first + last)//2 \r\n",
        "        if list[midpoint] == item:\r\n",
        "            found = True\r\n",
        "        else:\r\n",
        "            if item < list[midpoint]:\r\n",
        "                last = midpoint-1\r\n",
        "            else:\r\n",
        "                first = midpoint+1\r\n",
        "            \r\n",
        "    return found"
      ],
      "outputs": [],
      "metadata": {
        "id": "Xzu0sr2sRNrv"
      }
    },
    {
      "cell_type": "code",
      "execution_count": 61,
      "source": [
        "# Latihan Binary Search\r\n",
        "\r\n",
        "list = ['y','u','i','w','o','a','q','u','j','p']\r\n",
        "print(LinearSearch(list, 'a'))\r\n",
        "print(LinearSearch(list, 'q'))\r\n",
        "print(LinearSearch(list, 'z'))"
      ],
      "outputs": [
        {
          "output_type": "stream",
          "name": "stdout",
          "text": [
            "True\n",
            "True\n",
            "False\n"
          ]
        }
      ],
      "metadata": {
        "colab": {
          "base_uri": "https://localhost:8080/"
        },
        "id": "Ab_XTMZ2RYop",
        "outputId": "d7628682-0d37-400e-f1f8-8546451109e1"
      }
    },
    {
      "cell_type": "code",
      "execution_count": 70,
      "source": [
        "# Interpolation Search\r\n",
        "\r\n",
        "def IntPolSearch(list,x):    \r\n",
        "    idx0 = 0\r\n",
        "    idxn = (len(list)-1)\r\n",
        "    found = False\r\n",
        "    while idx0 <= idxn and x >= list[idx0] and x <= list[idxn]:\r\n",
        "        mid = idx0 + int(((float(idxn - idx0) / (list[idxn] - list[idx0])) * (x - list[idx0])))\r\n",
        "        if list[mid] == x:\r\n",
        "            found = True\r\n",
        "            return found\r\n",
        "        \r\n",
        "        if list[mid] < x:\r\n",
        "            idx0 = mid + 1\r\n",
        "    return found"
      ],
      "outputs": [],
      "metadata": {
        "id": "6ULgNFMZRk29"
      }
    },
    {
      "cell_type": "code",
      "execution_count": 71,
      "source": [
        "list = [12,33,11,99,22,55,90]\r\n",
        "sorted_list =  BubbleSort(list)\r\n",
        "print(IntPolSearch(list, 12))\r\n",
        "print(IntPolSearch(list, 91))"
      ],
      "outputs": [
        {
          "output_type": "stream",
          "name": "stdout",
          "text": [
            "True\n",
            "False\n"
          ]
        }
      ],
      "metadata": {
        "colab": {
          "base_uri": "https://localhost:8080/"
        },
        "id": "3gErk_yfR0oZ",
        "outputId": "07625d2c-a0b1-4705-e70c-f7d77db1ccb8"
      }
    },
    {
      "cell_type": "code",
      "execution_count": 75,
      "source": [
        "list = [20,2,0,7,1,0,4]\r\n",
        "sorted_list =  BubbleSort(list)\r\n",
        "print(IntPolSearch(list, 2))\r\n",
        "print(IntPolSearch(list, 20))\r\n",
        "print(IntPolSearch(list, 10))"
      ],
      "outputs": [
        {
          "output_type": "stream",
          "name": "stdout",
          "text": [
            "True\n",
            "True\n",
            "False\n"
          ]
        }
      ],
      "metadata": {
        "colab": {
          "base_uri": "https://localhost:8080/"
        },
        "id": "rwzkRlBeU9u0",
        "outputId": "22e7bfb5-c173-4e1c-d84e-46a87cbd5337"
      }
    }
  ]
}